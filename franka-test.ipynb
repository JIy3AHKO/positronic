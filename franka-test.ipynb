{
 "cells": [
  {
   "cell_type": "code",
   "execution_count": null,
   "metadata": {},
   "outputs": [],
   "source": [
    "import os\n",
    "os.environ['LD_LIBRARY_PATH'] = '/usr/local/lib/:' + os.environ.get('LD_LIBRARY_PATH', '')"
   ]
  },
  {
   "cell_type": "code",
   "execution_count": null,
   "metadata": {},
   "outputs": [],
   "source": [
    "print(os.environ['LD_LIBRARY_PATH'])"
   ]
  },
  {
   "cell_type": "code",
   "execution_count": null,
   "metadata": {},
   "outputs": [],
   "source": [
    "import ctypes\n",
    "ctypes.CDLL('/usr/local/lib/libfranka.so.0.13')"
   ]
  },
  {
   "cell_type": "code",
   "execution_count": null,
   "metadata": {},
   "outputs": [],
   "source": [
    "from franky import Affine, CartesianMotion, Robot, ReferenceType, RealtimeConfig, \\\n",
    "     JointWaypointMotion, JointWaypoint\n",
    "import franky"
   ]
  },
  {
   "cell_type": "code",
   "execution_count": null,
   "metadata": {},
   "outputs": [],
   "source": [
    "# with franky.RobotWebSession(\"172.168.0.2\", 'root', 'rootrootroot') as web_connection:\n",
    "#     web_connection.take_control(wait_timeout=15)\n",
    "#     web_connection.unlock_brakes()\n",
    "#     web_connection.enable_fci()"
   ]
  },
  {
   "cell_type": "code",
   "execution_count": null,
   "metadata": {},
   "outputs": [],
   "source": [
    "# web_connection = franky.RobotWebSession(\"172.168.0.2\", 'root', 'rootrootroot')\n",
    "# web_connection.open()\n",
    "# web_connection.take_control(wait_timeout=10)\n",
    "# web_connection.unlock_brakes()\n",
    "# web_connection.enable_fci()\n",
    "# web_connection.close()"
   ]
  },
  {
   "cell_type": "code",
   "execution_count": null,
   "metadata": {},
   "outputs": [],
   "source": [
    "robot = Robot(\"172.168.0.2\", realtime_config=RealtimeConfig.Ignore)\n",
    "robot.relative_dynamics_factor = 0.5"
   ]
  },
  {
   "cell_type": "code",
   "execution_count": null,
   "metadata": {},
   "outputs": [],
   "source": [
    "robot.recover_from_errors()"
   ]
  },
  {
   "cell_type": "code",
   "execution_count": null,
   "metadata": {},
   "outputs": [],
   "source": [
    "robot.current_joint_state.position"
   ]
  },
  {
   "cell_type": "code",
   "execution_count": null,
   "metadata": {},
   "outputs": [],
   "source": [
    "robot.current_pose.end_effector_pose"
   ]
  },
  {
   "cell_type": "code",
   "execution_count": null,
   "metadata": {},
   "outputs": [],
   "source": [
    "motion = CartesianMotion(Affine([-0.2, 0.0, 0.0]), ReferenceType.Relative)"
   ]
  },
  {
   "cell_type": "code",
   "execution_count": null,
   "metadata": {},
   "outputs": [],
   "source": [
    "motion = CartesianMotion(\n",
    "    Affine([0.45, 0, 0.55], [1, 0, 0, 0]), ReferenceType.Absolute)"
   ]
  },
  {
   "cell_type": "code",
   "execution_count": null,
   "metadata": {},
   "outputs": [],
   "source": [
    "motion = JointWaypointMotion([\n",
    "    JointWaypoint([0.0,  -0.3, 0.0, -1.8, 0.0, 1.5,  0.65])])"
   ]
  },
  {
   "cell_type": "code",
   "execution_count": null,
   "metadata": {},
   "outputs": [],
   "source": [
    "robot.move(motion, asynchronous=True)"
   ]
  },
  {
   "cell_type": "code",
   "execution_count": null,
   "metadata": {},
   "outputs": [],
   "source": [
    "gripper = franky.Gripper(\"172.168.0.2\")"
   ]
  },
  {
   "cell_type": "code",
   "execution_count": null,
   "metadata": {},
   "outputs": [],
   "source": [
    "gripper.open(0.02)"
   ]
  },
  {
   "cell_type": "code",
   "execution_count": null,
   "metadata": {},
   "outputs": [],
   "source": [
    "import numpy as np"
   ]
  },
  {
   "cell_type": "code",
   "execution_count": null,
   "metadata": {},
   "outputs": [],
   "source": [
    "vel = 0.03\n",
    "gripper.open(vel)\n",
    "try:\n",
    "    fut = None\n",
    "    for w in np.linspace(0, 100, 100 * 10):\n",
    "        if fut is not None and not fut.wait(0):\n",
    "            gripper.terminate_command()\n",
    "        fut = gripper.move_async(w * gripper.state.max_width, vel)\n",
    "except KeyboardInterrupt:\n",
    "    gripper.stop()"
   ]
  },
  {
   "cell_type": "markdown",
   "metadata": {},
   "source": [
    "--------\n",
    "# Now starts Kinova"
   ]
  },
  {
   "cell_type": "code",
   "execution_count": 11,
   "metadata": {},
   "outputs": [],
   "source": [
    "import collections\n",
    "collections.MutableMapping = collections.abc.MutableMapping\n",
    "collections.MutableSequence = collections.abc.MutableSequence\n",
    "collections.MutableSet = collections.abc.MutableSet"
   ]
  },
  {
   "cell_type": "code",
   "execution_count": 12,
   "metadata": {},
   "outputs": [],
   "source": [
    "import collections\n",
    "import time\n",
    "import threading"
   ]
  },
  {
   "cell_type": "code",
   "execution_count": 13,
   "metadata": {},
   "outputs": [],
   "source": [
    "from kortex_api.autogen.client_stubs.ActuatorConfigClientRpc import ActuatorConfigClient\n",
    "from kortex_api.autogen.client_stubs.BaseClientRpc import BaseClient\n",
    "from kortex_api.autogen.client_stubs.BaseCyclicClientRpc import BaseCyclicClient\n",
    "from kortex_api.autogen.messages import Base_pb2, BaseCyclic_pb2, ActuatorConfig_pb2\n",
    "\n",
    "from kortex_api.TCPTransport import TCPTransport\n",
    "from kortex_api.UDPTransport import UDPTransport\n",
    "\n",
    "from kortex_api.RouterClient import RouterClient, RouterClientSendOptions\n",
    "from kortex_api.SessionManager import SessionManager\n",
    "from kortex_api.autogen.messages import Session_pb2"
   ]
  },
  {
   "cell_type": "code",
   "execution_count": 14,
   "metadata": {},
   "outputs": [],
   "source": [
    "import geom\n",
    "import autograd.numpy as np\n",
    "import ruckig\n",
    "import matplotlib.pyplot as plt"
   ]
  },
  {
   "cell_type": "markdown",
   "metadata": {},
   "source": [
    "\n",
    "## Low level control"
   ]
  },
  {
   "cell_type": "code",
   "execution_count": 15,
   "metadata": {},
   "outputs": [],
   "source": [
    "target_pos = geom.Transform3D(\n",
    "    translation=np.array([0.53686397, 0.07407813, 0.53547285]),\n",
    "    quaternion=np.array([0.50436832, 0.51220832, 0.48933736, 0.49376531]))"
   ]
  },
  {
   "cell_type": "code",
   "execution_count": 16,
   "metadata": {},
   "outputs": [],
   "source": [
    "def inverse_kinematics(base, transform, joints_guess):\n",
    "    euler = geom.radians_to_degrees(geom.quat_to_euler(transform.quaternion))\n",
    "    ik_data = Base_pb2.IKData()\n",
    "    ik_data.cartesian_pose.x = transform.translation[0]\n",
    "    ik_data.cartesian_pose.y = transform.translation[1]\n",
    "    ik_data.cartesian_pose.z = transform.translation[2]\n",
    "    ik_data.cartesian_pose.theta_x = euler[0]\n",
    "    ik_data.cartesian_pose.theta_y = euler[1]\n",
    "    ik_data.cartesian_pose.theta_z = euler[2]\n",
    "\n",
    "    for a in joints_guess:\n",
    "        ja = ik_data.guess.joint_angles.add()\n",
    "        ja.value = a\n",
    "\n",
    "    joint_angels = base.ComputeInverseKinematics(ik_data)\n",
    "    return np.array([a.value for a in joint_angels.joint_angles])"
   ]
  },
  {
   "cell_type": "code",
   "execution_count": 17,
   "metadata": {},
   "outputs": [],
   "source": [
    "def normalise_angles(target, base, period=360):\n",
    "    res = target - base\n",
    "    res[res > period / 2] -= period\n",
    "    res[res < -period / 2] += period\n",
    "    return base + res"
   ]
  },
  {
   "cell_type": "code",
   "execution_count": 8,
   "metadata": {},
   "outputs": [],
   "source": [
    "class KinovaController:\n",
    "    def __init__(self, ip: str):\n",
    "        self.stop_event = threading.Event()\n",
    "        self.target_pos = None\n",
    "        self.target_lock = threading.Lock()\n",
    "\n",
    "        self.output_lock = threading.Lock()\n",
    "        self.output = None\n",
    "\n",
    "    def run(self):\n",
    "        if True:\n",
    "            transport = TCPTransport()\n",
    "            router = RouterClient(transport, RouterClient.basicErrorCallback)\n",
    "            transport.connect('192.168.1.10', 10000)\n",
    "\n",
    "            session_info = Session_pb2.CreateSessionInfo()\n",
    "            session_info.username = \"admin\"\n",
    "            session_info.password = \"admin\"\n",
    "            session_info.session_inactivity_timeout = 1000 * 1000   # (milliseconds)\n",
    "            session_info.connection_inactivity_timeout = 1000 * 1000 # (milliseconds)\n",
    "\n",
    "            sessionManager = SessionManager(router)\n",
    "            sessionManager.CreateSession(session_info)\n",
    "\n",
    "            base = BaseClient(router)\n",
    "            base.SetServoingMode(Base_pb2.ServoingModeInformation(servoing_mode = Base_pb2.SINGLE_LEVEL_SERVOING))\n",
    "\n",
    "            udp_transport = UDPTransport()\n",
    "            upd_router = RouterClient(udp_transport, RouterClient.basicErrorCallback)\n",
    "            udp_transport.connect('192.168.1.10', 10001)\n",
    "\n",
    "            udp_session = SessionManager(upd_router)\n",
    "            udp_session.CreateSession(session_info)\n",
    "            base_cyclic = BaseCyclicClient(upd_router)\n",
    "\n",
    "            action_list = base.ReadAllActions(\n",
    "                Base_pb2.RequestedActionType(action_type = Base_pb2.REACH_JOINT_ANGLES))\n",
    "            action_handle = [a.handle for a in action_list.action_list\n",
    "                            if a.name == \"Home\"][0]\n",
    "\n",
    "            def check(n, e):\n",
    "                if n.action_event in [Base_pb2.ACTION_END, Base_pb2.ACTION_ABORT]:\n",
    "                    print(\"Home position reached\")\n",
    "                    e.set()\n",
    "\n",
    "            e = threading.Event()\n",
    "            notification_handle = base.OnNotificationActionTopic(lambda n: check(n, e), Base_pb2.NotificationOptions())\n",
    "\n",
    "            base.ExecuteActionFromReference(action_handle)\n",
    "            finished = e.wait(30)\n",
    "            if not finished:\n",
    "                raise Exception(\"Home position not reached\")\n",
    "            base.Unsubscribe(notification_handle)\n",
    "        # ------------------\n",
    "\n",
    "\n",
    "        control = ruckig.Ruckig(7, 1 / 1000)  # 40 hz\n",
    "        inp_ctrl = ruckig.InputParameter(7)\n",
    "\n",
    "        inp_ctrl.target_velocity = [0.0] * 7\n",
    "        inp_ctrl.target_acceleration = [0.0] * 7\n",
    "\n",
    "        inp_ctrl.max_position = [np.inf, 128.9, np.inf, 147.8, np.inf, 120.3, np.inf]\n",
    "        inp_ctrl.min_position = [-np.inf, -128.9, -np.inf, -147.8, -np.inf, -120.3, -np.inf]\n",
    "        inp_ctrl.max_velocity = [20.0] * 7\n",
    "        inp_ctrl.max_acceleration = [15.0] * 7\n",
    "        inp_ctrl.max_jerk = [6.0] * 7\n",
    "\n",
    "        target_joints = None\n",
    "        command = BaseCyclic_pb2.Command()\n",
    "        for i in range(7):\n",
    "            act = command.actuators.add()\n",
    "\n",
    "        send_option = RouterClientSendOptions()\n",
    "        send_option.timeout_ms = 50\n",
    "\n",
    "        feedback = base_cyclic.RefreshFeedback()\n",
    "        inp_ctrl.current_position = ([a.position for a in feedback.actuators])\n",
    "        inp_ctrl.current_velocity = ([a.velocity for a in feedback.actuators])\n",
    "        with self.output_lock:\n",
    "            self.output = np.array([a.position for a in feedback.actuators])\n",
    "        out = ruckig.OutputParameter(7)\n",
    "        res = ruckig.Result.Working\n",
    "        start = time.monotonic()\n",
    "        count = 0\n",
    "\n",
    "        base.SetServoingMode(Base_pb2.ServoingModeInformation(servoing_mode=Base_pb2.LOW_LEVEL_SERVOING))\n",
    "        try:\n",
    "            while not self.stop_event.is_set():\n",
    "                with self.target_lock:\n",
    "                    if self.target_pos is not None:\n",
    "                        if target_joints is None:\n",
    "                            start = time.monotonic()\n",
    "\n",
    "                        target_pos = self.target_pos\n",
    "                        target_joints = inverse_kinematics(base, target_pos, [a.position for a in feedback.actuators])\n",
    "                        self.target_pos = None\n",
    "                        inp_ctrl.target_position = normalise_angles(target_joints, inp_ctrl.current_position)\n",
    "\n",
    "                if target_joints is None:\n",
    "                    time.sleep(0.1)\n",
    "                    continue\n",
    "\n",
    "                inp_ctrl.target_position = normalise_angles(target_joints, inp_ctrl.current_position)\n",
    "\n",
    "                res = control.update(inp_ctrl, out)\n",
    "                out.pass_to_input(inp_ctrl)\n",
    "\n",
    "                command.frame_id = (command.frame_id + 1) % 65536\n",
    "                for i in range(7):\n",
    "                    command.actuators[i].command_id = command.frame_id\n",
    "                    # command.actuators[i].position = feedback.actuators[i].position\n",
    "                    command.actuators[i].position = out.new_position[i]\n",
    "\n",
    "                feedback = base_cyclic.Refresh(command, 0, send_option)\n",
    "                with self.output_lock:\n",
    "                    self.output = np.array([a.position for a in feedback.actuators])\n",
    "\n",
    "                count += 1\n",
    "                if count % 10000 == 9999:\n",
    "                    print(f'Running {count / (time.monotonic() - start):.2f} hz')\n",
    "\n",
    "        finally:\n",
    "            base.SetServoingMode(Base_pb2.ServoingModeInformation(servoing_mode=Base_pb2.SINGLE_LEVEL_SERVOING))\n",
    "            base.Stop()\n",
    "\n",
    "            # if sessionManager != None:\n",
    "            #     router_options = RouterClientSendOptions()\n",
    "            #     router_options.timeout_ms = 1000\n",
    "            #     sessionManager.CloseSession(router_options)\n",
    "\n",
    "            # udp_transport.disconnect()\n",
    "            # transport.disconnect()"
   ]
  },
  {
   "cell_type": "code",
   "execution_count": 9,
   "metadata": {},
   "outputs": [
    {
     "name": "stdout",
     "output_type": "stream",
     "text": [
      "[Errno 104] Connection reset by peer\n"
     ]
    }
   ],
   "source": [
    "controller = KinovaController(\"192.168.1.10\")\n",
    "control_thread = threading.Thread(target=controller.run)\n",
    "control_thread.start()"
   ]
  },
  {
   "cell_type": "code",
   "execution_count": 19,
   "metadata": {},
   "outputs": [],
   "source": [
    "transport = TCPTransport()\n",
    "router = RouterClient(transport, RouterClient.basicErrorCallback)\n",
    "transport.connect('192.168.1.10', 10000)\n",
    "\n",
    "session_info = Session_pb2.CreateSessionInfo()\n",
    "session_info.username = \"admin\"\n",
    "session_info.password = \"admin\"\n",
    "session_info.session_inactivity_timeout = 1000 * 1000   # (milliseconds)\n",
    "session_info.connection_inactivity_timeout = 1000 * 1000 # (milliseconds)\n",
    "\n",
    "sessionManager = SessionManager(router)\n",
    "sessionManager.CreateSession(session_info)\n",
    "\n",
    "base = BaseClient(router)\n",
    "cyclic = BaseCyclicClient(router)"
   ]
  },
  {
   "cell_type": "code",
   "execution_count": 20,
   "metadata": {},
   "outputs": [
    {
     "data": {
      "text/plain": [
       "base {\n",
       "  active_state_connection_identifier: 23\n",
       "  active_state: ARMSTATE_SERVOING_READY\n",
       "  arm_voltage: 24.258553\n",
       "  arm_current: 0.94939125\n",
       "  temperature_cpu: 57.999985\n",
       "  temperature_ambient: 39.187016\n",
       "  imu_acceleration_x: 0.11017619\n",
       "  imu_acceleration_y: 0.031363044\n",
       "  imu_acceleration_z: -9.480112\n",
       "  imu_angular_velocity_x: 1.5276034\n",
       "  imu_angular_velocity_y: -1.349359\n",
       "  imu_angular_velocity_z: 0.35007906\n",
       "  tool_pose_x: 0.45684695\n",
       "  tool_pose_y: -0.005963069\n",
       "  tool_pose_z: 0.43533242\n",
       "  tool_pose_theta_x: 90.23329\n",
       "  tool_pose_theta_y: -0.6981128\n",
       "  tool_pose_theta_z: 88.073326\n",
       "  tool_external_wrench_force_x: -1.6621938\n",
       "  tool_external_wrench_force_y: -0.47984424\n",
       "  tool_external_wrench_force_z: -0.48418346\n",
       "  tool_external_wrench_torque_x: 0.34066308\n",
       "  tool_external_wrench_torque_y: 0.3689342\n",
       "  tool_external_wrench_torque_z: 0.6183044\n",
       "  commanded_tool_pose_x: 0.45683572\n",
       "  commanded_tool_pose_y: -0.0059629986\n",
       "  commanded_tool_pose_z: 0.43537968\n",
       "  commanded_tool_pose_theta_x: 90.22527\n",
       "  commanded_tool_pose_theta_y: -0.6982659\n",
       "  commanded_tool_pose_theta_z: 88.0734\n",
       "}\n",
       "actuators {\n",
       "  command_id: 2147488008\n",
       "  status_flags: 33556528\n",
       "  jitter_comm: 1630649134\n",
       "  position: 0.0006661332\n",
       "  torque: -0.3947573\n",
       "  current_motor: -0.011393811\n",
       "  voltage: 23.393856\n",
       "  temperature_motor: 38.62788\n",
       "  temperature_core: 45.806454\n",
       "}\n",
       "actuators {\n",
       "  command_id: 2147553544\n",
       "  status_flags: 33556528\n",
       "  jitter_comm: 1630646910\n",
       "  position: 15.010729\n",
       "  torque: 9.056252\n",
       "  current_motor: -0.8378906\n",
       "  voltage: 23.20943\n",
       "  temperature_motor: 38.086475\n",
       "  temperature_core: 44.95935\n",
       "}\n",
       "actuators {\n",
       "  command_id: 2147619080\n",
       "  status_flags: 33556528\n",
       "  jitter_comm: 1630359524\n",
       "  position: 179.99509\n",
       "  torque: -0.44518873\n",
       "  current_motor: -0.008056641\n",
       "  voltage: 23.351297\n",
       "  temperature_motor: 38.863136\n",
       "  temperature_core: 46.06426\n",
       "}\n",
       "actuators {\n",
       "  command_id: 2147684616\n",
       "  status_flags: 33556528\n",
       "  jitter_comm: 1629869952\n",
       "  position: 229.98969\n",
       "  torque: -5.4653697\n",
       "  current_motor: 0.018015197\n",
       "  voltage: 23.308737\n",
       "  temperature_motor: 38.723755\n",
       "  temperature_core: 45.36\n",
       "}\n",
       "actuators {\n",
       "  command_id: 2147750152\n",
       "  status_flags: 33556528\n",
       "  jitter_comm: 1631176536\n",
       "  position: 359.99713\n",
       "  torque: 0.22514348\n",
       "  current_motor: -0.012738667\n",
       "  voltage: 23.152685\n",
       "  temperature_motor: 44.52776\n",
       "  temperature_core: 48.88\n",
       "}\n",
       "actuators {\n",
       "  command_id: 2147815688\n",
       "  status_flags: 33556528\n",
       "  jitter_comm: 1630724355\n",
       "  position: 54.987473\n",
       "  torque: -1.4291762\n",
       "  current_motor: 0.35451508\n",
       "  voltage: 23.181055\n",
       "  temperature_motor: 45.74834\n",
       "  temperature_core: 47.99197\n",
       "}\n",
       "actuators {\n",
       "  command_id: 2147881224\n",
       "  status_flags: 33556528\n",
       "  jitter_comm: 1630358504\n",
       "  position: 90.00151\n",
       "  torque: -0.3284297\n",
       "  current_motor: -0.0040283203\n",
       "  voltage: 23.266178\n",
       "  temperature_motor: 49.57847\n",
       "  temperature_core: 52.48996\n",
       "}\n",
       "interconnect {\n",
       "  feedback_id {\n",
       "    identifier: 2147945625\n",
       "  }\n",
       "  status_flags: 1040\n",
       "  jitter_comm: 1631231493\n",
       "  imu_acceleration_x: 0.011956001\n",
       "  imu_acceleration_y: 9.621592\n",
       "  imu_acceleration_z: 0.1082018\n",
       "  imu_angular_velocity_x: 1.35625\n",
       "  imu_angular_velocity_y: -3.255\n",
       "  imu_angular_velocity_z: -0.945\n",
       "  voltage: 23.29336\n",
       "  temperature_core: 54.738956\n",
       "  gripper_feedback {\n",
       "    motor {\n",
       "      motor_id: 1\n",
       "      voltage: 23.29336\n",
       "    }\n",
       "  }\n",
       "}"
      ]
     },
     "execution_count": 20,
     "metadata": {},
     "output_type": "execute_result"
    },
    {
     "name": "stderr",
     "output_type": "stream",
     "text": [
      "[TCPTransport.send] ERROR: None\n",
      "[TCPTransport.send] ERROR: None\n",
      "Exception in thread Thread-6:\n",
      "Traceback (most recent call last):\n",
      "  File \"/home/vertix/miniconda3/envs/positronic/lib/python3.11/threading.py\", line 1045, in _bootstrap_inner\n",
      "Exception in thread Thread-22:\n",
      "Traceback (most recent call last):\n",
      "  File \"/home/vertix/miniconda3/envs/positronic/lib/python3.11/threading.py\", line 1045, in _bootstrap_inner\n",
      "    self.run()\n",
      "  File \"/home/vertix/miniconda3/envs/positronic/lib/python3.11/site-packages/kortex_api/SessionManager.py\", line 125, in run\n",
      "    self.run()\n",
      "  File \"/home/vertix/miniconda3/envs/positronic/lib/python3.11/site-packages/kortex_api/SessionManager.py\", line 125, in run\n",
      "    self.parent.KeepAlive(options=options)\n",
      "  File \"/home/vertix/miniconda3/envs/positronic/lib/python3.11/site-packages/kortex_api/autogen/client_stubs/SessionClientRpc.py\", line 59, in KeepAlive\n",
      "    future = self.router.send(None, 1, SessionFunctionUid.uidKeepAlive, deviceId, options)\n",
      "             ^^^^^^^^^^^^^^^^^^^^^^^^^^^^^^^^^^^^^^^^^^^^^^^^^^^^^^^^^^^^^^^^^^^^^^^^^^^^^\n",
      "  File \"/home/vertix/miniconda3/envs/positronic/lib/python3.11/site-packages/kortex_api/RouterClient.py\", line 71, in send\n",
      "    self.transport.send(payloadMsgFrame)\n",
      "  File \"/home/vertix/miniconda3/envs/positronic/lib/python3.11/site-packages/kortex_api/TCPTransport.py\", line 85, in send\n",
      "    self.parent.KeepAlive(options=options)\n",
      "  File \"/home/vertix/miniconda3/envs/positronic/lib/python3.11/site-packages/kortex_api/autogen/client_stubs/SessionClientRpc.py\", line 59, in KeepAlive\n",
      "    raise ex\n",
      "  File \"/home/vertix/miniconda3/envs/positronic/lib/python3.11/site-packages/kortex_api/TCPTransport.py\", line 80, in send\n",
      "    future = self.router.send(None, 1, SessionFunctionUid.uidKeepAlive, deviceId, options)\n",
      "             ^^^^^^^^^^^^^^^^^^^^^^^^^^^^^^^^^^^^^^^^^^^^^^^^^^^^^^^^^^^^^^^^^^^^^^^^^^^^^\n",
      "  File \"/home/vertix/miniconda3/envs/positronic/lib/python3.11/site-packages/kortex_api/RouterClient.py\", line 71, in send\n",
      "    self.transport.send(payloadMsgFrame)\n",
      "  File \"/home/vertix/miniconda3/envs/positronic/lib/python3.11/site-packages/kortex_api/TCPTransport.py\", line 85, in send\n",
      "    raise ex\n",
      "  File \"/home/vertix/miniconda3/envs/positronic/lib/python3.11/site-packages/kortex_api/TCPTransport.py\", line 80, in send\n",
      "    self.sock.sendall(payload)\n",
      "BrokenPipeError: [Errno 32] Broken pipe\n",
      "    self.sock.sendall(payload)\n",
      "BrokenPipeError: [Errno 32] Broken pipe\n"
     ]
    },
    {
     "name": "stdout",
     "output_type": "stream",
     "text": [
      "[Errno 104] Connection reset by peer\n",
      "[Errno 32] Broken pipe\n",
      "[Errno 32] Broken pipe\n"
     ]
    }
   ],
   "source": [
    "cyclic.RefreshFeedback()"
   ]
  },
  {
   "cell_type": "code",
   "execution_count": 13,
   "metadata": {},
   "outputs": [],
   "source": [
    "from hardware import kinova as knv"
   ]
  },
  {
   "cell_type": "code",
   "execution_count": null,
   "metadata": {},
   "outputs": [],
   "source": [
    "base.SetServoingMode(Base_pb2.ServoingModeInformation(servoing_mode = Base_pb2.SINGLE_LEVEL_SERVOING))\n",
    "angles_pb = base.GetMeasuredJointAngles()"
   ]
  },
  {
   "cell_type": "code",
   "execution_count": null,
   "metadata": {},
   "outputs": [],
   "source": [
    "for i in range(7):\n",
    "    angles_pb.joint_angles[i].value = 0"
   ]
  },
  {
   "cell_type": "code",
   "execution_count": null,
   "metadata": {},
   "outputs": [],
   "source": [
    "fk_out = base.ComputeForwardKinematics(angles_pb)\n",
    "fk_out"
   ]
  },
  {
   "cell_type": "code",
   "execution_count": null,
   "metadata": {},
   "outputs": [],
   "source": [
    "angles = np.array([a.value for a in angles_pb.joint_angles])"
   ]
  },
  {
   "cell_type": "code",
   "execution_count": 7,
   "metadata": {},
   "outputs": [],
   "source": [
    "def robot_fk(angles):\n",
    "    angles = geom.radians_to_degrees(angles)\n",
    "    angles_pb = Base_pb2.JointAngles()\n",
    "    for i, angle in enumerate(angles):\n",
    "        angles_pb.joint_angles.add(joint_identifier=i, value=angle)\n",
    "    fk_out = base.ComputeForwardKinematics(angles_pb)\n",
    "    return geom.Transform3D(translation=np.array([fk_out.x, fk_out.y, fk_out.z]),\n",
    "                            quaternion=geom.Quaternion.from_euler([fk_out.theta_x, fk_out.theta_y, fk_out.theta_z]))"
   ]
  },
  {
   "cell_type": "code",
   "execution_count": 8,
   "metadata": {},
   "outputs": [],
   "source": [
    "def kinematic_model(params, angles):\n",
    "    PARAMS_PER_LINK = 6\n",
    "    result = geom.Transform3D()\n",
    "    for i in range(7):\n",
    "        start_offset = i * PARAMS_PER_LINK\n",
    "        t = geom.Transform3D(translation=params[start_offset: start_offset + 3],\n",
    "                             quaternion=geom.Quaternion.from_euler(params[start_offset + 3: start_offset + 6]))\n",
    "        result = result * t * geom.Transform3D(quaternion=geom.Quaternion.from_euler([0, 0, angles[i]]))\n",
    "\n",
    "    t_last = geom.Transform3D(translation=params[-6:-3],\n",
    "                              quaternion=geom.Quaternion.from_euler(params[-3:]))\n",
    "    return result * t_last"
   ]
  },
  {
   "cell_type": "code",
   "execution_count": 19,
   "metadata": {},
   "outputs": [],
   "source": [
    "import concurrent.futures\n",
    "AW = 1\n",
    "\n",
    "def objective_function(params, joint_angels, target):\n",
    "    fk = kinematic_model(params, joint_angels)\n",
    "    diff = fk.translation - target.translation\n",
    "    diff_norm = diff.dot(diff)\n",
    "    return diff_norm + AW * (fk.quaternion.inv * target.quaternion).angle\n",
    "\n",
    "def parallel_objective_function(params):\n",
    "    with concurrent.futures.ThreadPoolExecutor() as executor:\n",
    "        futures = [executor.submit(objective_function, params, angles, target)\n",
    "                   for angles, target in zip(joint_angles_set, target_set)]\n",
    "        results = [f.result() for f in futures]\n",
    "    return sum(results)"
   ]
  },
  {
   "cell_type": "code",
   "execution_count": 20,
   "metadata": {},
   "outputs": [],
   "source": [
    "max_position = geom.degrees_to_radians(np.array([180, 128.9, 180, 147.8, 180, 120.3, 180]))"
   ]
  },
  {
   "cell_type": "code",
   "execution_count": 21,
   "metadata": {},
   "outputs": [],
   "source": [
    "joint_angles_set = np.random.uniform(-max_position, max_position, size=(30, 7))\n",
    "target_set = [robot_fk(angles) for angles in joint_angles_set]"
   ]
  },
  {
   "cell_type": "code",
   "execution_count": 17,
   "metadata": {},
   "outputs": [],
   "source": [
    "init_params = np.zeros(8 * 6)\n",
    "# for i, t in enumerate(knv._KINOVA_CHAIN):\n",
    "#     init_params[i * 6: (i + 1) * 6] = np.concatenate([t.translation, t.quaternion.as_euler])"
   ]
  },
  {
   "cell_type": "code",
   "execution_count": 22,
   "metadata": {},
   "outputs": [],
   "source": [
    "from autograd import grad\n",
    "objective_function_grad = grad(parallel_objective_function)"
   ]
  },
  {
   "cell_type": "code",
   "execution_count": 23,
   "metadata": {},
   "outputs": [
    {
     "name": "stdout",
     "output_type": "stream",
     "text": [
      "Current parameters: [ 3.09652729e-03 -4.30070702e-02  1.87082405e-01  2.86606178e+00\n",
      "  9.35009216e-05  9.06405053e-02  1.23570574e-02  2.75535245e-02\n",
      " -1.45188530e-01  1.70516465e+00  1.67150162e-01 -9.49301868e-02\n",
      "  1.02768922e-01 -2.66296250e-01 -3.32965453e-02 -1.69073945e+00\n",
      " -5.31046529e-02 -1.96580737e-01  2.45689676e-02 -1.77163208e-02\n",
      " -2.56121822e-01  1.82387225e+00 -2.18198979e-01 -5.05201608e-02\n",
      " -8.37089226e-02 -2.54912676e-01  1.52593960e-02 -1.49292932e+00\n",
      " -6.27961683e-01  2.37266640e-01 -3.39519319e-02 -3.14512662e-02\n",
      " -1.43932431e-01  1.68926535e+00 -3.49144918e-01 -6.18383373e-01\n",
      " -9.36461417e-02 -6.06177455e-02 -5.24227394e-02 -1.80027939e+00\n",
      " -4.17238589e-01  3.65763784e-01  5.99221073e-02  1.98879055e-02\n",
      " -8.99591564e-02  2.73272482e+00 -3.40803613e-01 -4.30332093e-01]\n",
      "Current error: 82.56073706794493\n",
      "Current parameters: [-9.83518673e-02 -6.39157862e-02  1.85768821e-01  2.92266528e+00\n",
      "  1.71808590e-01  6.46234156e-03 -2.49965115e-02  2.94751876e-02\n",
      " -1.23915870e-01  1.54540335e+00  1.13172300e-01 -7.35947538e-02\n",
      "  1.38647831e-01 -2.59302926e-01 -5.02530212e-02 -1.67320577e+00\n",
      " -2.10239105e-01 -2.10051430e-01 -5.51064938e-05 -3.90156271e-02\n",
      " -2.62180355e-01  2.06163937e+00 -2.38874476e-01 -2.12673541e-01\n",
      " -1.83807973e-01 -2.30811090e-01 -4.71631569e-02 -1.39822420e+00\n",
      " -1.02900272e+00  3.75467592e-01 -6.22669342e-02 -3.66600987e-02\n",
      " -1.70741302e-01  1.93440651e+00 -4.22314580e-01 -9.98528940e-01\n",
      " -8.77495068e-02 -2.17140064e-02 -5.91133833e-03 -2.11918754e+00\n",
      " -7.12706702e-01  5.01978163e-01  5.21536644e-02  6.05454912e-02\n",
      " -2.44607865e-02  2.44201785e+00 -3.35082816e-01 -7.52117345e-01]\n",
      "Current error: 76.11153952173801\n",
      "Current parameters: [-1.03454165e-01  1.97504036e-02  1.98675477e-01  3.13752296e+00\n",
      "  1.67471292e-01 -4.79397140e-02  1.82061469e-02  6.19717246e-02\n",
      " -1.56635759e-01  1.45845023e+00 -3.65936583e-02 -1.61286235e-01\n",
      " -3.83436239e-02 -2.41330937e-01 -4.56013779e-02 -1.71780799e+00\n",
      " -1.38619984e-01 -4.85483201e-02  2.07529340e-02 -1.42354615e-01\n",
      " -3.04408178e-01  2.07914396e+00 -3.45953111e-01 -1.73469398e-01\n",
      " -3.25188157e-01 -1.86172631e-01 -1.63040601e-01 -1.33021342e+00\n",
      " -1.10767427e+00  6.36397243e-01 -1.19576071e-01 -4.68223612e-02\n",
      " -2.71172255e-01  1.92921147e+00 -5.74189849e-01 -1.05489984e+00\n",
      " -5.51377994e-02 -7.68855417e-02 -7.58063569e-02 -2.45365575e+00\n",
      " -7.78956003e-01  5.13960787e-01  2.05206187e-02 -1.98091321e-03\n",
      "  9.38195069e-02  2.06621319e+00 -2.02097196e-02 -6.91715824e-01]\n",
      "Current error: 74.00592358707561\n"
     ]
    },
    {
     "ename": "KeyboardInterrupt",
     "evalue": "",
     "output_type": "error",
     "traceback": [
      "\u001b[0;31m---------------------------------------------------------------------------\u001b[0m",
      "\u001b[0;31mKeyboardInterrupt\u001b[0m                         Traceback (most recent call last)",
      "Cell \u001b[0;32mIn[23], line 13\u001b[0m\n\u001b[1;32m     10\u001b[0m         \u001b[38;5;28mprint\u001b[39m(\u001b[38;5;124mf\u001b[39m\u001b[38;5;124m\"\u001b[39m\u001b[38;5;124mCurrent parameters: \u001b[39m\u001b[38;5;132;01m{\u001b[39;00mparams\u001b[38;5;132;01m}\u001b[39;00m\u001b[38;5;124m\"\u001b[39m)\n\u001b[1;32m     11\u001b[0m         \u001b[38;5;28mprint\u001b[39m(\u001b[38;5;124mf\u001b[39m\u001b[38;5;124m\"\u001b[39m\u001b[38;5;124mCurrent error: \u001b[39m\u001b[38;5;132;01m{\u001b[39;00mtotal_error\u001b[38;5;132;01m}\u001b[39;00m\u001b[38;5;124m\"\u001b[39m)\n\u001b[0;32m---> 13\u001b[0m result \u001b[38;5;241m=\u001b[39m \u001b[43mminimize\u001b[49m\u001b[43m(\u001b[49m\n\u001b[1;32m     14\u001b[0m \u001b[43m    \u001b[49m\u001b[38;5;28;43;01mlambda\u001b[39;49;00m\u001b[43m \u001b[49m\u001b[43mparams\u001b[49m\u001b[43m:\u001b[49m\u001b[43m \u001b[49m\u001b[38;5;28;43msum\u001b[39;49m\u001b[43m(\u001b[49m\u001b[43mobjective_function\u001b[49m\u001b[43m(\u001b[49m\u001b[43mparams\u001b[49m\u001b[43m,\u001b[49m\u001b[43m \u001b[49m\u001b[43mjoint_angles_set\u001b[49m\u001b[43m[\u001b[49m\u001b[43mi\u001b[49m\u001b[43m]\u001b[49m\u001b[43m,\u001b[49m\u001b[43m \u001b[49m\u001b[43mtarget_set\u001b[49m\u001b[43m[\u001b[49m\u001b[43mi\u001b[49m\u001b[43m]\u001b[49m\u001b[43m)\u001b[49m\n\u001b[1;32m     15\u001b[0m \u001b[43m                        \u001b[49m\u001b[38;5;28;43;01mfor\u001b[39;49;00m\u001b[43m \u001b[49m\u001b[43mi\u001b[49m\u001b[43m \u001b[49m\u001b[38;5;129;43;01min\u001b[39;49;00m\u001b[43m \u001b[49m\u001b[38;5;28;43mrange\u001b[39;49m\u001b[43m(\u001b[49m\u001b[38;5;28;43mlen\u001b[39;49m\u001b[43m(\u001b[49m\u001b[43mjoint_angles_set\u001b[49m\u001b[43m)\u001b[49m\u001b[43m)\u001b[49m\u001b[43m)\u001b[49m\u001b[43m,\u001b[49m\n\u001b[1;32m     16\u001b[0m \u001b[43m    \u001b[49m\u001b[43minit_params\u001b[49m\u001b[43m,\u001b[49m\n\u001b[1;32m     17\u001b[0m \u001b[43m    \u001b[49m\u001b[43mjac\u001b[49m\u001b[38;5;241;43m=\u001b[39;49m\u001b[43mobjective_function_grad\u001b[49m\u001b[43m,\u001b[49m\n\u001b[1;32m     18\u001b[0m \u001b[43m    \u001b[49m\u001b[43mmethod\u001b[49m\u001b[38;5;241;43m=\u001b[39;49m\u001b[38;5;124;43m'\u001b[39;49m\u001b[38;5;124;43mBFGS\u001b[39;49m\u001b[38;5;124;43m'\u001b[39;49m\u001b[43m,\u001b[49m\u001b[43m \u001b[49m\u001b[43mcallback\u001b[49m\u001b[38;5;241;43m=\u001b[39;49m\u001b[43mcallback\u001b[49m\u001b[43m,\u001b[49m\u001b[43m \u001b[49m\u001b[43moptions\u001b[49m\u001b[38;5;241;43m=\u001b[39;49m\u001b[43m{\u001b[49m\u001b[38;5;124;43m'\u001b[39;49m\u001b[38;5;124;43mdisp\u001b[39;49m\u001b[38;5;124;43m'\u001b[39;49m\u001b[43m:\u001b[49m\u001b[43m \u001b[49m\u001b[38;5;28;43;01mTrue\u001b[39;49;00m\u001b[43m}\u001b[49m\u001b[43m)\u001b[49m\n",
      "File \u001b[0;32m~/miniconda3/envs/positronic/lib/python3.11/site-packages/scipy/optimize/_minimize.py:726\u001b[0m, in \u001b[0;36mminimize\u001b[0;34m(fun, x0, args, method, jac, hess, hessp, bounds, constraints, tol, callback, options)\u001b[0m\n\u001b[1;32m    724\u001b[0m     res \u001b[38;5;241m=\u001b[39m _minimize_cg(fun, x0, args, jac, callback, \u001b[38;5;241m*\u001b[39m\u001b[38;5;241m*\u001b[39moptions)\n\u001b[1;32m    725\u001b[0m \u001b[38;5;28;01melif\u001b[39;00m meth \u001b[38;5;241m==\u001b[39m \u001b[38;5;124m'\u001b[39m\u001b[38;5;124mbfgs\u001b[39m\u001b[38;5;124m'\u001b[39m:\n\u001b[0;32m--> 726\u001b[0m     res \u001b[38;5;241m=\u001b[39m \u001b[43m_minimize_bfgs\u001b[49m\u001b[43m(\u001b[49m\u001b[43mfun\u001b[49m\u001b[43m,\u001b[49m\u001b[43m \u001b[49m\u001b[43mx0\u001b[49m\u001b[43m,\u001b[49m\u001b[43m \u001b[49m\u001b[43margs\u001b[49m\u001b[43m,\u001b[49m\u001b[43m \u001b[49m\u001b[43mjac\u001b[49m\u001b[43m,\u001b[49m\u001b[43m \u001b[49m\u001b[43mcallback\u001b[49m\u001b[43m,\u001b[49m\u001b[43m \u001b[49m\u001b[38;5;241;43m*\u001b[39;49m\u001b[38;5;241;43m*\u001b[39;49m\u001b[43moptions\u001b[49m\u001b[43m)\u001b[49m\n\u001b[1;32m    727\u001b[0m \u001b[38;5;28;01melif\u001b[39;00m meth \u001b[38;5;241m==\u001b[39m \u001b[38;5;124m'\u001b[39m\u001b[38;5;124mnewton-cg\u001b[39m\u001b[38;5;124m'\u001b[39m:\n\u001b[1;32m    728\u001b[0m     res \u001b[38;5;241m=\u001b[39m _minimize_newtoncg(fun, x0, args, jac, hess, hessp, callback,\n\u001b[1;32m    729\u001b[0m                              \u001b[38;5;241m*\u001b[39m\u001b[38;5;241m*\u001b[39moptions)\n",
      "File \u001b[0;32m~/miniconda3/envs/positronic/lib/python3.11/site-packages/scipy/optimize/_optimize.py:1397\u001b[0m, in \u001b[0;36m_minimize_bfgs\u001b[0;34m(fun, x0, args, jac, callback, gtol, norm, eps, maxiter, disp, return_all, finite_diff_rel_step, xrtol, c1, c2, hess_inv0, **unknown_options)\u001b[0m\n\u001b[1;32m   1394\u001b[0m pk \u001b[38;5;241m=\u001b[39m \u001b[38;5;241m-\u001b[39mnp\u001b[38;5;241m.\u001b[39mdot(Hk, gfk)\n\u001b[1;32m   1395\u001b[0m \u001b[38;5;28;01mtry\u001b[39;00m:\n\u001b[1;32m   1396\u001b[0m     alpha_k, fc, gc, old_fval, old_old_fval, gfkp1 \u001b[38;5;241m=\u001b[39m \\\n\u001b[0;32m-> 1397\u001b[0m              \u001b[43m_line_search_wolfe12\u001b[49m\u001b[43m(\u001b[49m\u001b[43mf\u001b[49m\u001b[43m,\u001b[49m\u001b[43m \u001b[49m\u001b[43mmyfprime\u001b[49m\u001b[43m,\u001b[49m\u001b[43m \u001b[49m\u001b[43mxk\u001b[49m\u001b[43m,\u001b[49m\u001b[43m \u001b[49m\u001b[43mpk\u001b[49m\u001b[43m,\u001b[49m\u001b[43m \u001b[49m\u001b[43mgfk\u001b[49m\u001b[43m,\u001b[49m\n\u001b[1;32m   1398\u001b[0m \u001b[43m                                  \u001b[49m\u001b[43mold_fval\u001b[49m\u001b[43m,\u001b[49m\u001b[43m \u001b[49m\u001b[43mold_old_fval\u001b[49m\u001b[43m,\u001b[49m\u001b[43m \u001b[49m\u001b[43mamin\u001b[49m\u001b[38;5;241;43m=\u001b[39;49m\u001b[38;5;241;43m1e-100\u001b[39;49m\u001b[43m,\u001b[49m\n\u001b[1;32m   1399\u001b[0m \u001b[43m                                  \u001b[49m\u001b[43mamax\u001b[49m\u001b[38;5;241;43m=\u001b[39;49m\u001b[38;5;241;43m1e100\u001b[39;49m\u001b[43m,\u001b[49m\u001b[43m \u001b[49m\u001b[43mc1\u001b[49m\u001b[38;5;241;43m=\u001b[39;49m\u001b[43mc1\u001b[49m\u001b[43m,\u001b[49m\u001b[43m \u001b[49m\u001b[43mc2\u001b[49m\u001b[38;5;241;43m=\u001b[39;49m\u001b[43mc2\u001b[49m\u001b[43m)\u001b[49m\n\u001b[1;32m   1400\u001b[0m \u001b[38;5;28;01mexcept\u001b[39;00m _LineSearchError:\n\u001b[1;32m   1401\u001b[0m     \u001b[38;5;66;03m# Line search failed to find a better solution.\u001b[39;00m\n\u001b[1;32m   1402\u001b[0m     warnflag \u001b[38;5;241m=\u001b[39m \u001b[38;5;241m2\u001b[39m\n",
      "File \u001b[0;32m~/miniconda3/envs/positronic/lib/python3.11/site-packages/scipy/optimize/_optimize.py:1133\u001b[0m, in \u001b[0;36m_line_search_wolfe12\u001b[0;34m(f, fprime, xk, pk, gfk, old_fval, old_old_fval, **kwargs)\u001b[0m\n\u001b[1;32m   1119\u001b[0m \u001b[38;5;250m\u001b[39m\u001b[38;5;124;03m\"\"\"\u001b[39;00m\n\u001b[1;32m   1120\u001b[0m \u001b[38;5;124;03mSame as line_search_wolfe1, but fall back to line_search_wolfe2 if\u001b[39;00m\n\u001b[1;32m   1121\u001b[0m \u001b[38;5;124;03msuitable step length is not found, and raise an exception if a\u001b[39;00m\n\u001b[0;32m   (...)\u001b[0m\n\u001b[1;32m   1128\u001b[0m \n\u001b[1;32m   1129\u001b[0m \u001b[38;5;124;03m\"\"\"\u001b[39;00m\n\u001b[1;32m   1131\u001b[0m extra_condition \u001b[38;5;241m=\u001b[39m kwargs\u001b[38;5;241m.\u001b[39mpop(\u001b[38;5;124m'\u001b[39m\u001b[38;5;124mextra_condition\u001b[39m\u001b[38;5;124m'\u001b[39m, \u001b[38;5;28;01mNone\u001b[39;00m)\n\u001b[0;32m-> 1133\u001b[0m ret \u001b[38;5;241m=\u001b[39m \u001b[43mline_search_wolfe1\u001b[49m\u001b[43m(\u001b[49m\u001b[43mf\u001b[49m\u001b[43m,\u001b[49m\u001b[43m \u001b[49m\u001b[43mfprime\u001b[49m\u001b[43m,\u001b[49m\u001b[43m \u001b[49m\u001b[43mxk\u001b[49m\u001b[43m,\u001b[49m\u001b[43m \u001b[49m\u001b[43mpk\u001b[49m\u001b[43m,\u001b[49m\u001b[43m \u001b[49m\u001b[43mgfk\u001b[49m\u001b[43m,\u001b[49m\n\u001b[1;32m   1134\u001b[0m \u001b[43m                         \u001b[49m\u001b[43mold_fval\u001b[49m\u001b[43m,\u001b[49m\u001b[43m \u001b[49m\u001b[43mold_old_fval\u001b[49m\u001b[43m,\u001b[49m\n\u001b[1;32m   1135\u001b[0m \u001b[43m                         \u001b[49m\u001b[38;5;241;43m*\u001b[39;49m\u001b[38;5;241;43m*\u001b[39;49m\u001b[43mkwargs\u001b[49m\u001b[43m)\u001b[49m\n\u001b[1;32m   1137\u001b[0m \u001b[38;5;28;01mif\u001b[39;00m ret[\u001b[38;5;241m0\u001b[39m] \u001b[38;5;129;01mis\u001b[39;00m \u001b[38;5;129;01mnot\u001b[39;00m \u001b[38;5;28;01mNone\u001b[39;00m \u001b[38;5;129;01mand\u001b[39;00m extra_condition \u001b[38;5;129;01mis\u001b[39;00m \u001b[38;5;129;01mnot\u001b[39;00m \u001b[38;5;28;01mNone\u001b[39;00m:\n\u001b[1;32m   1138\u001b[0m     xp1 \u001b[38;5;241m=\u001b[39m xk \u001b[38;5;241m+\u001b[39m ret[\u001b[38;5;241m0\u001b[39m] \u001b[38;5;241m*\u001b[39m pk\n",
      "File \u001b[0;32m~/miniconda3/envs/positronic/lib/python3.11/site-packages/scipy/optimize/_linesearch.py:93\u001b[0m, in \u001b[0;36mline_search_wolfe1\u001b[0;34m(f, fprime, xk, pk, gfk, old_fval, old_old_fval, args, c1, c2, amax, amin, xtol)\u001b[0m\n\u001b[1;32m     89\u001b[0m     \u001b[38;5;28;01mreturn\u001b[39;00m np\u001b[38;5;241m.\u001b[39mdot(gval[\u001b[38;5;241m0\u001b[39m], pk)\n\u001b[1;32m     91\u001b[0m derphi0 \u001b[38;5;241m=\u001b[39m np\u001b[38;5;241m.\u001b[39mdot(gfk, pk)\n\u001b[0;32m---> 93\u001b[0m stp, fval, old_fval \u001b[38;5;241m=\u001b[39m \u001b[43mscalar_search_wolfe1\u001b[49m\u001b[43m(\u001b[49m\n\u001b[1;32m     94\u001b[0m \u001b[43m        \u001b[49m\u001b[43mphi\u001b[49m\u001b[43m,\u001b[49m\u001b[43m \u001b[49m\u001b[43mderphi\u001b[49m\u001b[43m,\u001b[49m\u001b[43m \u001b[49m\u001b[43mold_fval\u001b[49m\u001b[43m,\u001b[49m\u001b[43m \u001b[49m\u001b[43mold_old_fval\u001b[49m\u001b[43m,\u001b[49m\u001b[43m \u001b[49m\u001b[43mderphi0\u001b[49m\u001b[43m,\u001b[49m\n\u001b[1;32m     95\u001b[0m \u001b[43m        \u001b[49m\u001b[43mc1\u001b[49m\u001b[38;5;241;43m=\u001b[39;49m\u001b[43mc1\u001b[49m\u001b[43m,\u001b[49m\u001b[43m \u001b[49m\u001b[43mc2\u001b[49m\u001b[38;5;241;43m=\u001b[39;49m\u001b[43mc2\u001b[49m\u001b[43m,\u001b[49m\u001b[43m \u001b[49m\u001b[43mamax\u001b[49m\u001b[38;5;241;43m=\u001b[39;49m\u001b[43mamax\u001b[49m\u001b[43m,\u001b[49m\u001b[43m \u001b[49m\u001b[43mamin\u001b[49m\u001b[38;5;241;43m=\u001b[39;49m\u001b[43mamin\u001b[49m\u001b[43m,\u001b[49m\u001b[43m \u001b[49m\u001b[43mxtol\u001b[49m\u001b[38;5;241;43m=\u001b[39;49m\u001b[43mxtol\u001b[49m\u001b[43m)\u001b[49m\n\u001b[1;32m     97\u001b[0m \u001b[38;5;28;01mreturn\u001b[39;00m stp, fc[\u001b[38;5;241m0\u001b[39m], gc[\u001b[38;5;241m0\u001b[39m], fval, old_fval, gval[\u001b[38;5;241m0\u001b[39m]\n",
      "File \u001b[0;32m~/miniconda3/envs/positronic/lib/python3.11/site-packages/scipy/optimize/_linesearch.py:170\u001b[0m, in \u001b[0;36mscalar_search_wolfe1\u001b[0;34m(phi, derphi, phi0, old_phi0, derphi0, c1, c2, amax, amin, xtol)\u001b[0m\n\u001b[1;32m    167\u001b[0m maxiter \u001b[38;5;241m=\u001b[39m \u001b[38;5;241m100\u001b[39m\n\u001b[1;32m    169\u001b[0m dcsrch \u001b[38;5;241m=\u001b[39m DCSRCH(phi, derphi, c1, c2, xtol, amin, amax)\n\u001b[0;32m--> 170\u001b[0m stp, phi1, phi0, task \u001b[38;5;241m=\u001b[39m \u001b[43mdcsrch\u001b[49m\u001b[43m(\u001b[49m\n\u001b[1;32m    171\u001b[0m \u001b[43m    \u001b[49m\u001b[43malpha1\u001b[49m\u001b[43m,\u001b[49m\u001b[43m \u001b[49m\u001b[43mphi0\u001b[49m\u001b[38;5;241;43m=\u001b[39;49m\u001b[43mphi0\u001b[49m\u001b[43m,\u001b[49m\u001b[43m \u001b[49m\u001b[43mderphi0\u001b[49m\u001b[38;5;241;43m=\u001b[39;49m\u001b[43mderphi0\u001b[49m\u001b[43m,\u001b[49m\u001b[43m \u001b[49m\u001b[43mmaxiter\u001b[49m\u001b[38;5;241;43m=\u001b[39;49m\u001b[43mmaxiter\u001b[49m\n\u001b[1;32m    172\u001b[0m \u001b[43m\u001b[49m\u001b[43m)\u001b[49m\n\u001b[1;32m    174\u001b[0m \u001b[38;5;28;01mreturn\u001b[39;00m stp, phi1, phi0\n",
      "File \u001b[0;32m~/miniconda3/envs/positronic/lib/python3.11/site-packages/scipy/optimize/_dcsrch.py:256\u001b[0m, in \u001b[0;36mDCSRCH.__call__\u001b[0;34m(self, alpha1, phi0, derphi0, maxiter)\u001b[0m\n\u001b[1;32m    254\u001b[0m     alpha1 \u001b[38;5;241m=\u001b[39m stp\n\u001b[1;32m    255\u001b[0m     phi1 \u001b[38;5;241m=\u001b[39m \u001b[38;5;28mself\u001b[39m\u001b[38;5;241m.\u001b[39mphi(stp)\n\u001b[0;32m--> 256\u001b[0m     derphi1 \u001b[38;5;241m=\u001b[39m \u001b[38;5;28;43mself\u001b[39;49m\u001b[38;5;241;43m.\u001b[39;49m\u001b[43mderphi\u001b[49m\u001b[43m(\u001b[49m\u001b[43mstp\u001b[49m\u001b[43m)\u001b[49m\n\u001b[1;32m    257\u001b[0m \u001b[38;5;28;01melse\u001b[39;00m:\n\u001b[1;32m    258\u001b[0m     \u001b[38;5;28;01mbreak\u001b[39;00m\n",
      "File \u001b[0;32m~/miniconda3/envs/positronic/lib/python3.11/site-packages/scipy/optimize/_linesearch.py:87\u001b[0m, in \u001b[0;36mline_search_wolfe1.<locals>.derphi\u001b[0;34m(s)\u001b[0m\n\u001b[1;32m     86\u001b[0m \u001b[38;5;28;01mdef\u001b[39;00m \u001b[38;5;21mderphi\u001b[39m(s):\n\u001b[0;32m---> 87\u001b[0m     gval[\u001b[38;5;241m0\u001b[39m] \u001b[38;5;241m=\u001b[39m \u001b[43mfprime\u001b[49m\u001b[43m(\u001b[49m\u001b[43mxk\u001b[49m\u001b[43m \u001b[49m\u001b[38;5;241;43m+\u001b[39;49m\u001b[43m \u001b[49m\u001b[43ms\u001b[49m\u001b[38;5;241;43m*\u001b[39;49m\u001b[43mpk\u001b[49m\u001b[43m,\u001b[49m\u001b[43m \u001b[49m\u001b[38;5;241;43m*\u001b[39;49m\u001b[43margs\u001b[49m\u001b[43m)\u001b[49m\n\u001b[1;32m     88\u001b[0m     gc[\u001b[38;5;241m0\u001b[39m] \u001b[38;5;241m+\u001b[39m\u001b[38;5;241m=\u001b[39m \u001b[38;5;241m1\u001b[39m\n\u001b[1;32m     89\u001b[0m     \u001b[38;5;28;01mreturn\u001b[39;00m np\u001b[38;5;241m.\u001b[39mdot(gval[\u001b[38;5;241m0\u001b[39m], pk)\n",
      "File \u001b[0;32m~/miniconda3/envs/positronic/lib/python3.11/site-packages/scipy/optimize/_differentiable_functions.py:331\u001b[0m, in \u001b[0;36mScalarFunction.grad\u001b[0;34m(self, x)\u001b[0m\n\u001b[1;32m    329\u001b[0m \u001b[38;5;28;01mif\u001b[39;00m \u001b[38;5;129;01mnot\u001b[39;00m np\u001b[38;5;241m.\u001b[39marray_equal(x, \u001b[38;5;28mself\u001b[39m\u001b[38;5;241m.\u001b[39mx):\n\u001b[1;32m    330\u001b[0m     \u001b[38;5;28mself\u001b[39m\u001b[38;5;241m.\u001b[39m_update_x(x)\n\u001b[0;32m--> 331\u001b[0m \u001b[38;5;28;43mself\u001b[39;49m\u001b[38;5;241;43m.\u001b[39;49m\u001b[43m_update_grad\u001b[49m\u001b[43m(\u001b[49m\u001b[43m)\u001b[49m\n\u001b[1;32m    332\u001b[0m \u001b[38;5;28;01mreturn\u001b[39;00m \u001b[38;5;28mself\u001b[39m\u001b[38;5;241m.\u001b[39mg\n",
      "File \u001b[0;32m~/miniconda3/envs/positronic/lib/python3.11/site-packages/scipy/optimize/_differentiable_functions.py:306\u001b[0m, in \u001b[0;36mScalarFunction._update_grad\u001b[0;34m(self)\u001b[0m\n\u001b[1;32m    304\u001b[0m \u001b[38;5;28;01mif\u001b[39;00m \u001b[38;5;28mself\u001b[39m\u001b[38;5;241m.\u001b[39m_orig_grad \u001b[38;5;129;01min\u001b[39;00m FD_METHODS:\n\u001b[1;32m    305\u001b[0m     \u001b[38;5;28mself\u001b[39m\u001b[38;5;241m.\u001b[39m_update_fun()\n\u001b[0;32m--> 306\u001b[0m \u001b[38;5;28mself\u001b[39m\u001b[38;5;241m.\u001b[39mg \u001b[38;5;241m=\u001b[39m \u001b[38;5;28;43mself\u001b[39;49m\u001b[38;5;241;43m.\u001b[39;49m\u001b[43m_wrapped_grad\u001b[49m\u001b[43m(\u001b[49m\u001b[38;5;28;43mself\u001b[39;49m\u001b[38;5;241;43m.\u001b[39;49m\u001b[43mx\u001b[49m\u001b[43m,\u001b[49m\u001b[43m \u001b[49m\u001b[43mf0\u001b[49m\u001b[38;5;241;43m=\u001b[39;49m\u001b[38;5;28;43mself\u001b[39;49m\u001b[38;5;241;43m.\u001b[39;49m\u001b[43mf\u001b[49m\u001b[43m)\u001b[49m\n\u001b[1;32m    307\u001b[0m \u001b[38;5;28mself\u001b[39m\u001b[38;5;241m.\u001b[39mg_updated \u001b[38;5;241m=\u001b[39m \u001b[38;5;28;01mTrue\u001b[39;00m\n",
      "File \u001b[0;32m~/miniconda3/envs/positronic/lib/python3.11/site-packages/scipy/optimize/_differentiable_functions.py:41\u001b[0m, in \u001b[0;36m_wrapper_grad.<locals>.wrapped\u001b[0;34m(x, **kwds)\u001b[0m\n\u001b[1;32m     38\u001b[0m \u001b[38;5;28;01mdef\u001b[39;00m \u001b[38;5;21mwrapped\u001b[39m(x, \u001b[38;5;241m*\u001b[39m\u001b[38;5;241m*\u001b[39mkwds):\n\u001b[1;32m     39\u001b[0m     \u001b[38;5;66;03m# kwds present to give function same signature as numdiff variant\u001b[39;00m\n\u001b[1;32m     40\u001b[0m     ncalls[\u001b[38;5;241m0\u001b[39m] \u001b[38;5;241m+\u001b[39m\u001b[38;5;241m=\u001b[39m \u001b[38;5;241m1\u001b[39m\n\u001b[0;32m---> 41\u001b[0m     \u001b[38;5;28;01mreturn\u001b[39;00m np\u001b[38;5;241m.\u001b[39matleast_1d(\u001b[43mgrad\u001b[49m\u001b[43m(\u001b[49m\u001b[43mnp\u001b[49m\u001b[38;5;241;43m.\u001b[39;49m\u001b[43mcopy\u001b[49m\u001b[43m(\u001b[49m\u001b[43mx\u001b[49m\u001b[43m)\u001b[49m\u001b[43m,\u001b[49m\u001b[43m \u001b[49m\u001b[38;5;241;43m*\u001b[39;49m\u001b[43margs\u001b[49m\u001b[43m)\u001b[49m)\n",
      "File \u001b[0;32m~/miniconda3/envs/positronic/lib/python3.11/site-packages/autograd/wrap_util.py:20\u001b[0m, in \u001b[0;36munary_to_nary.<locals>.nary_operator.<locals>.nary_f\u001b[0;34m(*args, **kwargs)\u001b[0m\n\u001b[1;32m     18\u001b[0m \u001b[38;5;28;01melse\u001b[39;00m:\n\u001b[1;32m     19\u001b[0m     x \u001b[38;5;241m=\u001b[39m \u001b[38;5;28mtuple\u001b[39m(args[i] \u001b[38;5;28;01mfor\u001b[39;00m i \u001b[38;5;129;01min\u001b[39;00m argnum)\n\u001b[0;32m---> 20\u001b[0m \u001b[38;5;28;01mreturn\u001b[39;00m \u001b[43munary_operator\u001b[49m\u001b[43m(\u001b[49m\u001b[43munary_f\u001b[49m\u001b[43m,\u001b[49m\u001b[43m \u001b[49m\u001b[43mx\u001b[49m\u001b[43m,\u001b[49m\u001b[43m \u001b[49m\u001b[38;5;241;43m*\u001b[39;49m\u001b[43mnary_op_args\u001b[49m\u001b[43m,\u001b[49m\u001b[43m \u001b[49m\u001b[38;5;241;43m*\u001b[39;49m\u001b[38;5;241;43m*\u001b[39;49m\u001b[43mnary_op_kwargs\u001b[49m\u001b[43m)\u001b[49m\n",
      "File \u001b[0;32m~/miniconda3/envs/positronic/lib/python3.11/site-packages/autograd/differential_operators.py:28\u001b[0m, in \u001b[0;36mgrad\u001b[0;34m(fun, x)\u001b[0m\n\u001b[1;32m     21\u001b[0m \u001b[38;5;129m@unary_to_nary\u001b[39m\n\u001b[1;32m     22\u001b[0m \u001b[38;5;28;01mdef\u001b[39;00m \u001b[38;5;21mgrad\u001b[39m(fun, x):\n\u001b[1;32m     23\u001b[0m \u001b[38;5;250m    \u001b[39m\u001b[38;5;124;03m\"\"\"\u001b[39;00m\n\u001b[1;32m     24\u001b[0m \u001b[38;5;124;03m    Returns a function which computes the gradient of `fun` with respect to\u001b[39;00m\n\u001b[1;32m     25\u001b[0m \u001b[38;5;124;03m    positional argument number `argnum`. The returned function takes the same\u001b[39;00m\n\u001b[1;32m     26\u001b[0m \u001b[38;5;124;03m    arguments as `fun`, but returns the gradient instead. The function `fun`\u001b[39;00m\n\u001b[1;32m     27\u001b[0m \u001b[38;5;124;03m    should be scalar-valued. The gradient has the same type as the argument.\"\"\"\u001b[39;00m\n\u001b[0;32m---> 28\u001b[0m     vjp, ans \u001b[38;5;241m=\u001b[39m \u001b[43m_make_vjp\u001b[49m\u001b[43m(\u001b[49m\u001b[43mfun\u001b[49m\u001b[43m,\u001b[49m\u001b[43m \u001b[49m\u001b[43mx\u001b[49m\u001b[43m)\u001b[49m\n\u001b[1;32m     29\u001b[0m     \u001b[38;5;28;01mif\u001b[39;00m \u001b[38;5;129;01mnot\u001b[39;00m vspace(ans)\u001b[38;5;241m.\u001b[39msize \u001b[38;5;241m==\u001b[39m \u001b[38;5;241m1\u001b[39m:\n\u001b[1;32m     30\u001b[0m         \u001b[38;5;28;01mraise\u001b[39;00m \u001b[38;5;167;01mTypeError\u001b[39;00m(\u001b[38;5;124m\"\u001b[39m\u001b[38;5;124mGrad only applies to real scalar-output functions. \u001b[39m\u001b[38;5;124m\"\u001b[39m\n\u001b[1;32m     31\u001b[0m                         \u001b[38;5;124m\"\u001b[39m\u001b[38;5;124mTry jacobian, elementwise_grad or holomorphic_grad.\u001b[39m\u001b[38;5;124m\"\u001b[39m)\n",
      "File \u001b[0;32m~/miniconda3/envs/positronic/lib/python3.11/site-packages/autograd/core.py:10\u001b[0m, in \u001b[0;36mmake_vjp\u001b[0;34m(fun, x)\u001b[0m\n\u001b[1;32m      8\u001b[0m \u001b[38;5;28;01mdef\u001b[39;00m \u001b[38;5;21mmake_vjp\u001b[39m(fun, x):\n\u001b[1;32m      9\u001b[0m     start_node \u001b[38;5;241m=\u001b[39m VJPNode\u001b[38;5;241m.\u001b[39mnew_root()\n\u001b[0;32m---> 10\u001b[0m     end_value, end_node \u001b[38;5;241m=\u001b[39m  \u001b[43mtrace\u001b[49m\u001b[43m(\u001b[49m\u001b[43mstart_node\u001b[49m\u001b[43m,\u001b[49m\u001b[43m \u001b[49m\u001b[43mfun\u001b[49m\u001b[43m,\u001b[49m\u001b[43m \u001b[49m\u001b[43mx\u001b[49m\u001b[43m)\u001b[49m\n\u001b[1;32m     11\u001b[0m     \u001b[38;5;28;01mif\u001b[39;00m end_node \u001b[38;5;129;01mis\u001b[39;00m \u001b[38;5;28;01mNone\u001b[39;00m:\n\u001b[1;32m     12\u001b[0m         \u001b[38;5;28;01mdef\u001b[39;00m \u001b[38;5;21mvjp\u001b[39m(g): \u001b[38;5;28;01mreturn\u001b[39;00m vspace(x)\u001b[38;5;241m.\u001b[39mzeros()\n",
      "File \u001b[0;32m~/miniconda3/envs/positronic/lib/python3.11/site-packages/autograd/tracer.py:10\u001b[0m, in \u001b[0;36mtrace\u001b[0;34m(start_node, fun, x)\u001b[0m\n\u001b[1;32m      8\u001b[0m \u001b[38;5;28;01mwith\u001b[39;00m trace_stack\u001b[38;5;241m.\u001b[39mnew_trace() \u001b[38;5;28;01mas\u001b[39;00m t:\n\u001b[1;32m      9\u001b[0m     start_box \u001b[38;5;241m=\u001b[39m new_box(x, t, start_node)\n\u001b[0;32m---> 10\u001b[0m     end_box \u001b[38;5;241m=\u001b[39m \u001b[43mfun\u001b[49m\u001b[43m(\u001b[49m\u001b[43mstart_box\u001b[49m\u001b[43m)\u001b[49m\n\u001b[1;32m     11\u001b[0m     \u001b[38;5;28;01mif\u001b[39;00m isbox(end_box) \u001b[38;5;129;01mand\u001b[39;00m end_box\u001b[38;5;241m.\u001b[39m_trace \u001b[38;5;241m==\u001b[39m start_box\u001b[38;5;241m.\u001b[39m_trace:\n\u001b[1;32m     12\u001b[0m         \u001b[38;5;28;01mreturn\u001b[39;00m end_box\u001b[38;5;241m.\u001b[39m_value, end_box\u001b[38;5;241m.\u001b[39m_node\n",
      "File \u001b[0;32m~/miniconda3/envs/positronic/lib/python3.11/site-packages/autograd/wrap_util.py:15\u001b[0m, in \u001b[0;36munary_to_nary.<locals>.nary_operator.<locals>.nary_f.<locals>.unary_f\u001b[0;34m(x)\u001b[0m\n\u001b[1;32m     13\u001b[0m \u001b[38;5;28;01melse\u001b[39;00m:\n\u001b[1;32m     14\u001b[0m     subargs \u001b[38;5;241m=\u001b[39m subvals(args, \u001b[38;5;28mzip\u001b[39m(argnum, x))\n\u001b[0;32m---> 15\u001b[0m \u001b[38;5;28;01mreturn\u001b[39;00m \u001b[43mfun\u001b[49m\u001b[43m(\u001b[49m\u001b[38;5;241;43m*\u001b[39;49m\u001b[43msubargs\u001b[49m\u001b[43m,\u001b[49m\u001b[43m \u001b[49m\u001b[38;5;241;43m*\u001b[39;49m\u001b[38;5;241;43m*\u001b[39;49m\u001b[43mkwargs\u001b[49m\u001b[43m)\u001b[49m\n",
      "Cell \u001b[0;32mIn[19], line 12\u001b[0m, in \u001b[0;36mparallel_objective_function\u001b[0;34m(params)\u001b[0m\n\u001b[1;32m     10\u001b[0m \u001b[38;5;28;01mdef\u001b[39;00m \u001b[38;5;21mparallel_objective_function\u001b[39m(params):\n\u001b[1;32m     11\u001b[0m     \u001b[38;5;28;01mwith\u001b[39;00m concurrent\u001b[38;5;241m.\u001b[39mfutures\u001b[38;5;241m.\u001b[39mThreadPoolExecutor() \u001b[38;5;28;01mas\u001b[39;00m executor:\n\u001b[0;32m---> 12\u001b[0m         futures \u001b[38;5;241m=\u001b[39m \u001b[43m[\u001b[49m\u001b[43mexecutor\u001b[49m\u001b[38;5;241;43m.\u001b[39;49m\u001b[43msubmit\u001b[49m\u001b[43m(\u001b[49m\u001b[43mobjective_function\u001b[49m\u001b[43m,\u001b[49m\u001b[43m \u001b[49m\u001b[43mparams\u001b[49m\u001b[43m,\u001b[49m\u001b[43m \u001b[49m\u001b[43mangles\u001b[49m\u001b[43m,\u001b[49m\u001b[43m \u001b[49m\u001b[43mtarget\u001b[49m\u001b[43m)\u001b[49m\n\u001b[1;32m     13\u001b[0m \u001b[43m                   \u001b[49m\u001b[38;5;28;43;01mfor\u001b[39;49;00m\u001b[43m \u001b[49m\u001b[43mangles\u001b[49m\u001b[43m,\u001b[49m\u001b[43m \u001b[49m\u001b[43mtarget\u001b[49m\u001b[43m \u001b[49m\u001b[38;5;129;43;01min\u001b[39;49;00m\u001b[43m \u001b[49m\u001b[38;5;28;43mzip\u001b[39;49m\u001b[43m(\u001b[49m\u001b[43mjoint_angles_set\u001b[49m\u001b[43m,\u001b[49m\u001b[43m \u001b[49m\u001b[43mtarget_set\u001b[49m\u001b[43m)\u001b[49m\u001b[43m]\u001b[49m\n\u001b[1;32m     14\u001b[0m         results \u001b[38;5;241m=\u001b[39m [f\u001b[38;5;241m.\u001b[39mresult() \u001b[38;5;28;01mfor\u001b[39;00m f \u001b[38;5;129;01min\u001b[39;00m futures]\n\u001b[1;32m     15\u001b[0m     \u001b[38;5;28;01mreturn\u001b[39;00m \u001b[38;5;28msum\u001b[39m(results)\n",
      "Cell \u001b[0;32mIn[19], line 12\u001b[0m, in \u001b[0;36m<listcomp>\u001b[0;34m(.0)\u001b[0m\n\u001b[1;32m     10\u001b[0m \u001b[38;5;28;01mdef\u001b[39;00m \u001b[38;5;21mparallel_objective_function\u001b[39m(params):\n\u001b[1;32m     11\u001b[0m     \u001b[38;5;28;01mwith\u001b[39;00m concurrent\u001b[38;5;241m.\u001b[39mfutures\u001b[38;5;241m.\u001b[39mThreadPoolExecutor() \u001b[38;5;28;01mas\u001b[39;00m executor:\n\u001b[0;32m---> 12\u001b[0m         futures \u001b[38;5;241m=\u001b[39m [\u001b[43mexecutor\u001b[49m\u001b[38;5;241;43m.\u001b[39;49m\u001b[43msubmit\u001b[49m\u001b[43m(\u001b[49m\u001b[43mobjective_function\u001b[49m\u001b[43m,\u001b[49m\u001b[43m \u001b[49m\u001b[43mparams\u001b[49m\u001b[43m,\u001b[49m\u001b[43m \u001b[49m\u001b[43mangles\u001b[49m\u001b[43m,\u001b[49m\u001b[43m \u001b[49m\u001b[43mtarget\u001b[49m\u001b[43m)\u001b[49m\n\u001b[1;32m     13\u001b[0m                    \u001b[38;5;28;01mfor\u001b[39;00m angles, target \u001b[38;5;129;01min\u001b[39;00m \u001b[38;5;28mzip\u001b[39m(joint_angles_set, target_set)]\n\u001b[1;32m     14\u001b[0m         results \u001b[38;5;241m=\u001b[39m [f\u001b[38;5;241m.\u001b[39mresult() \u001b[38;5;28;01mfor\u001b[39;00m f \u001b[38;5;129;01min\u001b[39;00m futures]\n\u001b[1;32m     15\u001b[0m     \u001b[38;5;28;01mreturn\u001b[39;00m \u001b[38;5;28msum\u001b[39m(results)\n",
      "File \u001b[0;32m~/miniconda3/envs/positronic/lib/python3.11/concurrent/futures/thread.py:176\u001b[0m, in \u001b[0;36mThreadPoolExecutor.submit\u001b[0;34m(self, fn, *args, **kwargs)\u001b[0m\n\u001b[1;32m    173\u001b[0m w \u001b[38;5;241m=\u001b[39m _WorkItem(f, fn, args, kwargs)\n\u001b[1;32m    175\u001b[0m \u001b[38;5;28mself\u001b[39m\u001b[38;5;241m.\u001b[39m_work_queue\u001b[38;5;241m.\u001b[39mput(w)\n\u001b[0;32m--> 176\u001b[0m \u001b[38;5;28;43mself\u001b[39;49m\u001b[38;5;241;43m.\u001b[39;49m\u001b[43m_adjust_thread_count\u001b[49m\u001b[43m(\u001b[49m\u001b[43m)\u001b[49m\n\u001b[1;32m    177\u001b[0m \u001b[38;5;28;01mreturn\u001b[39;00m f\n",
      "File \u001b[0;32m~/miniconda3/envs/positronic/lib/python3.11/concurrent/futures/thread.py:199\u001b[0m, in \u001b[0;36mThreadPoolExecutor._adjust_thread_count\u001b[0;34m(self)\u001b[0m\n\u001b[1;32m    192\u001b[0m thread_name \u001b[38;5;241m=\u001b[39m \u001b[38;5;124m'\u001b[39m\u001b[38;5;132;01m%s\u001b[39;00m\u001b[38;5;124m_\u001b[39m\u001b[38;5;132;01m%d\u001b[39;00m\u001b[38;5;124m'\u001b[39m \u001b[38;5;241m%\u001b[39m (\u001b[38;5;28mself\u001b[39m\u001b[38;5;241m.\u001b[39m_thread_name_prefix \u001b[38;5;129;01mor\u001b[39;00m \u001b[38;5;28mself\u001b[39m,\n\u001b[1;32m    193\u001b[0m                          num_threads)\n\u001b[1;32m    194\u001b[0m t \u001b[38;5;241m=\u001b[39m threading\u001b[38;5;241m.\u001b[39mThread(name\u001b[38;5;241m=\u001b[39mthread_name, target\u001b[38;5;241m=\u001b[39m_worker,\n\u001b[1;32m    195\u001b[0m                      args\u001b[38;5;241m=\u001b[39m(weakref\u001b[38;5;241m.\u001b[39mref(\u001b[38;5;28mself\u001b[39m, weakref_cb),\n\u001b[1;32m    196\u001b[0m                            \u001b[38;5;28mself\u001b[39m\u001b[38;5;241m.\u001b[39m_work_queue,\n\u001b[1;32m    197\u001b[0m                            \u001b[38;5;28mself\u001b[39m\u001b[38;5;241m.\u001b[39m_initializer,\n\u001b[1;32m    198\u001b[0m                            \u001b[38;5;28mself\u001b[39m\u001b[38;5;241m.\u001b[39m_initargs))\n\u001b[0;32m--> 199\u001b[0m \u001b[43mt\u001b[49m\u001b[38;5;241;43m.\u001b[39;49m\u001b[43mstart\u001b[49m\u001b[43m(\u001b[49m\u001b[43m)\u001b[49m\n\u001b[1;32m    200\u001b[0m \u001b[38;5;28mself\u001b[39m\u001b[38;5;241m.\u001b[39m_threads\u001b[38;5;241m.\u001b[39madd(t)\n\u001b[1;32m    201\u001b[0m _threads_queues[t] \u001b[38;5;241m=\u001b[39m \u001b[38;5;28mself\u001b[39m\u001b[38;5;241m.\u001b[39m_work_queue\n",
      "File \u001b[0;32m~/miniconda3/envs/positronic/lib/python3.11/threading.py:969\u001b[0m, in \u001b[0;36mThread.start\u001b[0;34m(self)\u001b[0m\n\u001b[1;32m    967\u001b[0m         \u001b[38;5;28;01mdel\u001b[39;00m _limbo[\u001b[38;5;28mself\u001b[39m]\n\u001b[1;32m    968\u001b[0m     \u001b[38;5;28;01mraise\u001b[39;00m\n\u001b[0;32m--> 969\u001b[0m \u001b[38;5;28;43mself\u001b[39;49m\u001b[38;5;241;43m.\u001b[39;49m\u001b[43m_started\u001b[49m\u001b[38;5;241;43m.\u001b[39;49m\u001b[43mwait\u001b[49m\u001b[43m(\u001b[49m\u001b[43m)\u001b[49m\n",
      "File \u001b[0;32m~/miniconda3/envs/positronic/lib/python3.11/threading.py:629\u001b[0m, in \u001b[0;36mEvent.wait\u001b[0;34m(self, timeout)\u001b[0m\n\u001b[1;32m    627\u001b[0m signaled \u001b[38;5;241m=\u001b[39m \u001b[38;5;28mself\u001b[39m\u001b[38;5;241m.\u001b[39m_flag\n\u001b[1;32m    628\u001b[0m \u001b[38;5;28;01mif\u001b[39;00m \u001b[38;5;129;01mnot\u001b[39;00m signaled:\n\u001b[0;32m--> 629\u001b[0m     signaled \u001b[38;5;241m=\u001b[39m \u001b[38;5;28;43mself\u001b[39;49m\u001b[38;5;241;43m.\u001b[39;49m\u001b[43m_cond\u001b[49m\u001b[38;5;241;43m.\u001b[39;49m\u001b[43mwait\u001b[49m\u001b[43m(\u001b[49m\u001b[43mtimeout\u001b[49m\u001b[43m)\u001b[49m\n\u001b[1;32m    630\u001b[0m \u001b[38;5;28;01mreturn\u001b[39;00m signaled\n",
      "File \u001b[0;32m~/miniconda3/envs/positronic/lib/python3.11/threading.py:327\u001b[0m, in \u001b[0;36mCondition.wait\u001b[0;34m(self, timeout)\u001b[0m\n\u001b[1;32m    325\u001b[0m \u001b[38;5;28;01mtry\u001b[39;00m:    \u001b[38;5;66;03m# restore state no matter what (e.g., KeyboardInterrupt)\u001b[39;00m\n\u001b[1;32m    326\u001b[0m     \u001b[38;5;28;01mif\u001b[39;00m timeout \u001b[38;5;129;01mis\u001b[39;00m \u001b[38;5;28;01mNone\u001b[39;00m:\n\u001b[0;32m--> 327\u001b[0m         \u001b[43mwaiter\u001b[49m\u001b[38;5;241;43m.\u001b[39;49m\u001b[43macquire\u001b[49m\u001b[43m(\u001b[49m\u001b[43m)\u001b[49m\n\u001b[1;32m    328\u001b[0m         gotit \u001b[38;5;241m=\u001b[39m \u001b[38;5;28;01mTrue\u001b[39;00m\n\u001b[1;32m    329\u001b[0m     \u001b[38;5;28;01melse\u001b[39;00m:\n",
      "\u001b[0;31mKeyboardInterrupt\u001b[0m: "
     ]
    }
   ],
   "source": [
    "from scipy.optimize import minimize\n",
    "count = 0\n",
    "\n",
    "def callback(params):\n",
    "    global count\n",
    "    count += 1\n",
    "    if count % 3 == 0:\n",
    "        total_error = sum(objective_function(params, joint_angles_set[i], target_set[i])\n",
    "                        for i in range(len(joint_angles_set)))\n",
    "        print(f\"Current parameters: {params}\")\n",
    "        print(f\"Current error: {total_error}\")\n",
    "\n",
    "result = minimize(\n",
    "    lambda params: sum(objective_function(params, joint_angles_set[i], target_set[i])\n",
    "                        for i in range(len(joint_angles_set))),\n",
    "    init_params,\n",
    "    jac=objective_function_grad,\n",
    "    method='BFGS', callback=callback, options={'disp': True})"
   ]
  },
  {
   "cell_type": "code",
   "execution_count": null,
   "metadata": {},
   "outputs": [],
   "source": [
    "robot_fk(angles)"
   ]
  },
  {
   "cell_type": "code",
   "execution_count": null,
   "metadata": {},
   "outputs": [],
   "source": [
    "def forward_kinematics(joints):\n",
    "    joints = geom.degrees_to_radians(joints)\n",
    "\n",
    "    result = geom.Transform3D()\n",
    "    for chain, joint in zip(knv._KINOVA_CHAIN, joints):\n",
    "        result = result * chain * geom.Transform3D(quaternion=geom.Quaternion.from_euler([0, 0, joint]))\n",
    "    result = result * knv._KINOVA_CHAIN[-1]\n",
    "\n",
    "    return result"
   ]
  },
  {
   "cell_type": "code",
   "execution_count": null,
   "metadata": {},
   "outputs": [],
   "source": [
    "geom.radians_to_degrees(knv._forward_kinematics(angles).quaternion.as_euler)"
   ]
  },
  {
   "cell_type": "code",
   "execution_count": null,
   "metadata": {},
   "outputs": [],
   "source": [
    "with controller.target_lock:\n",
    "    controller.target_pos = target_pos"
   ]
  },
  {
   "cell_type": "code",
   "execution_count": null,
   "metadata": {},
   "outputs": [],
   "source": [
    "target_pos2 = geom.Transform3D(translation=np.array([0.5, -0.15, 0.4]), quaternion=np.array([0.5, 0.5, 0.5, 0.5]))\n",
    "with controller.target_lock:\n",
    "    controller.target_pos = target_pos2"
   ]
  },
  {
   "cell_type": "code",
   "execution_count": null,
   "metadata": {},
   "outputs": [],
   "source": [
    "controller.stop_event.set()\n",
    "control_thread.join()\n",
    "\n",
    "del controller"
   ]
  },
  {
   "cell_type": "code",
   "execution_count": null,
   "metadata": {},
   "outputs": [],
   "source": []
  },
  {
   "cell_type": "markdown",
   "metadata": {},
   "source": [
    "---"
   ]
  },
  {
   "cell_type": "code",
   "execution_count": null,
   "metadata": {},
   "outputs": [],
   "source": [
    "log = collections.defaultdict(list)\n",
    "actuator_mode = [ActuatorConfig_pb2.POSITION] * 7\n",
    "\n",
    "base.SetServoingMode(Base_pb2.ServoingModeInformation(servoing_mode=Base_pb2.SINGLE_LEVEL_SERVOING))\n",
    "try:\n",
    "    feedback = base_cyclic.RefreshFeedback()\n",
    "    out = ruckig.OutputParameter(7)\n",
    "    res = ruckig.Result.Working\n",
    "    start = time.monotonic()\n",
    "    count = 0\n",
    "    while res == ruckig.Result.Working:\n",
    "        cur_pos = np.array([a.position for a in feedback.actuators])\n",
    "        cur_vel = np.array([a.velocity for a in feedback.actuators])\n",
    "        inp_ctrl.current_position = cur_pos\n",
    "        # inp_ctrl.current_velocity = cur_vel\n",
    "        inp_ctrl.target_position = normalise_angles(target_joints, inp_ctrl.current_position)\n",
    "\n",
    "        res = control.update(inp_ctrl, out)\n",
    "        log['pos/current'].append(normalise_angles(cur_pos, inp_ctrl.current_position))\n",
    "        log['pos/target'].append(inp_ctrl.target_position)\n",
    "        log['vel/current'].append(cur_vel)\n",
    "        log['pos/output'].append(out.new_position)\n",
    "        log['vel/output'].append(out.new_velocity)\n",
    "        out.pass_to_input(inp_ctrl)\n",
    "\n",
    "        joint_speeds = Base_pb2.JointSpeeds()\n",
    "        for i in range(7):\n",
    "            js = joint_speeds.joint_speeds.add()\n",
    "            js.joint_identifier = i\n",
    "            js.value = out.new_velocity[i]\n",
    "            js.duration = 0\n",
    "\n",
    "        base.SendJointSpeedsCommand(joint_speeds)\n",
    "        feedback = base_cyclic.RefreshFeedback()\n",
    "        count += 1\n",
    "        if count % 100 == 99:\n",
    "            print(f'Running {count / (time.monotonic() - start):.2f} hz')\n",
    "finally:\n",
    "    base.Stop()"
   ]
  },
  {
   "cell_type": "code",
   "execution_count": null,
   "metadata": {},
   "outputs": [],
   "source": [
    "base.ClearFaults()\n",
    "base.ExecuteActionFromReference(action_handle)"
   ]
  },
  {
   "cell_type": "code",
   "execution_count": null,
   "metadata": {},
   "outputs": [],
   "source": [
    "for k in log:\n",
    "    log[k] = np.array(log[k])"
   ]
  },
  {
   "cell_type": "code",
   "execution_count": null,
   "metadata": {},
   "outputs": [],
   "source": [
    "fig, axs = plt.subplots(4, 4, figsize=(15, 8))\n",
    "for i in range(7):\n",
    "    row = i // 2\n",
    "    col = (i % 2) * 2\n",
    "    axs[row, col].plot(log['pos/current'][:, i])\n",
    "    axs[row, col].plot(log['pos/target'][:, i])\n",
    "    axs[row, col].plot(log['pos/output'][:, i])\n",
    "    axs[row, col].yaxis.set_major_formatter(plt.FuncFormatter(lambda x, _: f'{x:.0f}'))\n",
    "    axs[row, col].tick_params(axis='x', labelbottom=False)\n",
    "\n",
    "    axs[row, col + 1].plot(log['vel/output'][:, i])\n",
    "    axs[row, col + 1].plot(log['vel/current'][:, i])\n",
    "    axs[row, col + 1].yaxis.set_major_formatter(plt.FuncFormatter(lambda x, _: f'{x:.0f}'))\n",
    "    axs[row, col + 1].tick_params(axis='x', labelbottom=False)\n",
    "\n",
    "# Hide the empty subplots\n",
    "for j in range(7, 8):\n",
    "    row = j // 2\n",
    "    col = (j % 2) * 2\n",
    "    fig.delaxes(axs[row, col])\n",
    "    fig.delaxes(axs[row, col + 1])\n",
    "\n",
    "plt.tight_layout()\n",
    "plt.show()"
   ]
  },
  {
   "cell_type": "code",
   "execution_count": null,
   "metadata": {},
   "outputs": [],
   "source": [
    "fig, axs = plt.subplots(4, 4, figsize=(15, 8))\n",
    "for i in range(7):\n",
    "    row = i // 2\n",
    "    col = (i % 2) * 2\n",
    "    axs[row, col].plot(log['pos/current'][:, i])\n",
    "    axs[row, col].plot(log['pos/target'][:, i])\n",
    "    axs[row, col].plot(log['pos/output'][:, i])\n",
    "    axs[row, col].yaxis.set_major_formatter(plt.FuncFormatter(lambda x, _: f'{x:.0f}'))\n",
    "    axs[row, col].tick_params(axis='x', labelbottom=False)\n",
    "\n",
    "    axs[row, col + 1].plot(log['vel/output'][:, i])\n",
    "    axs[row, col + 1].plot(log['vel/current'][:, i])\n",
    "    axs[row, col + 1].yaxis.set_major_formatter(plt.FuncFormatter(lambda x, _: f'{x:.0f}'))\n",
    "    axs[row, col + 1].tick_params(axis='x', labelbottom=False)\n",
    "\n",
    "# Hide the empty subplots\n",
    "for j in range(7, 8):\n",
    "    row = j // 2\n",
    "    col = (j % 2) * 2\n",
    "    fig.delaxes(axs[row, col])\n",
    "    fig.delaxes(axs[row, col + 1])\n",
    "\n",
    "plt.tight_layout()\n",
    "plt.show()"
   ]
  },
  {
   "cell_type": "code",
   "execution_count": null,
   "metadata": {},
   "outputs": [],
   "source": [
    "fig, axs = plt.subplots(4, 4, figsize=(15, 8))\n",
    "for i in range(7):\n",
    "    row = i // 2\n",
    "    col = (i % 2) * 2\n",
    "    axs[row, col].plot(log['pos/current'][:, i])\n",
    "    axs[row, col].plot(log['pos/target'][:, i])\n",
    "    axs[row, col].plot(log['pos/output'][:, i])\n",
    "    axs[row, col].yaxis.set_major_formatter(plt.FuncFormatter(lambda x, _: f'{x:.0f}'))\n",
    "    axs[row, col].tick_params(axis='x', labelbottom=False)\n",
    "\n",
    "    axs[row, col + 1].plot(log['vel/output'][:, i])\n",
    "    axs[row, col + 1].plot(log['vel/current'][:, i])\n",
    "    axs[row, col + 1].yaxis.set_major_formatter(plt.FuncFormatter(lambda x, _: f'{x:.0f}'))\n",
    "    axs[row, col + 1].tick_params(axis='x', labelbottom=False)\n",
    "\n",
    "# Hide the empty subplots\n",
    "for j in range(7, 8):\n",
    "    row = j // 2\n",
    "    col = (j % 2) * 2\n",
    "    fig.delaxes(axs[row, col])\n",
    "    fig.delaxes(axs[row, col + 1])\n",
    "\n",
    "plt.tight_layout()\n",
    "plt.show()"
   ]
  },
  {
   "cell_type": "code",
   "execution_count": null,
   "metadata": {},
   "outputs": [],
   "source": [
    "d_time, d_dim = np.meshgrid(range(len(log['mode'])), range(7), indexing='ij')\n",
    "plt.scatter(d_time.flatten(), d_dim.flatten(), c=log['mode'].flatten(), cmap='viridis', marker='s')\n",
    "plt.show()"
   ]
  },
  {
   "cell_type": "code",
   "execution_count": null,
   "metadata": {},
   "outputs": [],
   "source": [
    "actuator_config.GetControlLoopParameters(\n",
    "    ActuatorConfig_pb2.LoopSelection(loop_selection=ActuatorConfig_pb2.JOINT_POSITION))"
   ]
  },
  {
   "cell_type": "code",
   "execution_count": null,
   "metadata": {},
   "outputs": [],
   "source": []
  },
  {
   "cell_type": "code",
   "execution_count": null,
   "metadata": {},
   "outputs": [],
   "source": [
    "router_options = RouterClientSendOptions()\n",
    "router_options.timeout_ms = 1000\n",
    "sessionManager.CloseSession(router_options)\n",
    "transport.disconnect()"
   ]
  },
  {
   "cell_type": "code",
   "execution_count": null,
   "metadata": {},
   "outputs": [],
   "source": []
  },
  {
   "cell_type": "code",
   "execution_count": null,
   "metadata": {},
   "outputs": [],
   "source": [
    "log = collections.defaultdict(list)\n",
    "actuator_mode = [ActuatorConfig_pb2.POSITION] * 7\n",
    "\n",
    "base.SetServoingMode(Base_pb2.ServoingModeInformation(servoing_mode=Base_pb2.LOW_LEVEL_SERVOING))\n",
    "try:\n",
    "    feedback = base_cyclic.RefreshFeedback()\n",
    "    out = ruckig.OutputParameter(7)\n",
    "    res = ruckig.Result.Working\n",
    "    start = time.monotonic()\n",
    "    count = 0\n",
    "    while res == ruckig.Result.Working:\n",
    "        cur_pos = np.array([a.position for a in feedback.actuators])\n",
    "        cur_vel = np.array([a.velocity for a in feedback.actuators])\n",
    "        # inp_ctrl.current_position = cur_pos\n",
    "        # inp_ctrl.current_velocity = cur_vel\n",
    "        inp_ctrl.target_position = normalise_angles(target_joints, inp_ctrl.current_position)\n",
    "\n",
    "        res = control.update(inp_ctrl, out)\n",
    "        log['pos/current'].append(normalise_angles(cur_pos, inp_ctrl.current_position))\n",
    "        log['pos/target'].append(inp_ctrl.target_position)\n",
    "        log['vel/current'].append(cur_vel)\n",
    "        log['pos/output'].append(out.new_position)\n",
    "        log['vel/output'].append(out.new_velocity)\n",
    "        out.pass_to_input(inp_ctrl)\n",
    "\n",
    "        command.frame_id = (command.frame_id + 1) % 65536\n",
    "        for i in range(7):\n",
    "            command.actuators[i].command_id = command.frame_id\n",
    "            # If the difference between the target and current position is less than 0.3 degrees,\n",
    "            # use position control. Otherwise, use velocity control\n",
    "            pos_control = abs(out.new_position[i] - inp_ctrl.target_position[i]) < 0.3 or abs(out.new_velocity[i]) < 0.1\n",
    "            # mode = ActuatorConfig_pb2.POSITION if pos_control else ActuatorConfig_pb2.VELOCITY\n",
    "            mode = ActuatorConfig_pb2.POSITION\n",
    "            if actuator_mode[i] != mode:\n",
    "                actuator_config.SetControlMode(ActuatorConfig_pb2.ControlModeInformation(control_mode=mode), deviceId=i+1)\n",
    "                actuator_mode[i] = mode\n",
    "\n",
    "            command.actuators[i].position = out.new_position[i]\n",
    "            command.actuators[i].velocity = out.new_velocity[i]\n",
    "\n",
    "        log['mode'].append([actuator_mode[i] for i in range(7)])\n",
    "        feedback = base_cyclic.Refresh(command, 0, send_option)\n",
    "        count += 1\n",
    "        if count % 100 == 99:\n",
    "            print(f'Running {count / (time.monotonic() - start):.2f} hz')\n",
    "\n",
    "finally:\n",
    "    for i in range(7):\n",
    "        actuator_config.SetControlMode(\n",
    "            ActuatorConfig_pb2.ControlModeInformation(control_mode=ActuatorConfig_pb2.POSITION),\n",
    "            deviceId=i+1)\n",
    "    # command.frame_id = (command.frame_id + 1) % 65536\n",
    "    # for i in range(7):\n",
    "    #     command.actuators[i].command_id = command.frame_id\n",
    "    #     command.actuators[i].position = feedback.actuators[i].position\n",
    "    # feedback = base_cyclic.Refresh(command, 0, send_option)\n",
    "\n",
    "    base.SetServoingMode(Base_pb2.ServoingModeInformation(servoing_mode=Base_pb2.SINGLE_LEVEL_SERVOING))"
   ]
  }
 ],
 "metadata": {
  "kernelspec": {
   "display_name": "positronic",
   "language": "python",
   "name": "python3"
  },
  "language_info": {
   "codemirror_mode": {
    "name": "ipython",
    "version": 3
   },
   "file_extension": ".py",
   "mimetype": "text/x-python",
   "name": "python",
   "nbconvert_exporter": "python",
   "pygments_lexer": "ipython3",
   "version": "3.11.9"
  }
 },
 "nbformat": 4,
 "nbformat_minor": 2
}
