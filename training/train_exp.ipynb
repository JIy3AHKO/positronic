{
 "cells": [
  {
   "cell_type": "code",
   "execution_count": 1,
   "metadata": {},
   "outputs": [],
   "source": [
    "import torch"
   ]
  },
  {
   "cell_type": "code",
   "execution_count": 20,
   "metadata": {},
   "outputs": [],
   "source": [
    "ds_path = '../_dataset/4.pt'"
   ]
  },
  {
   "cell_type": "code",
   "execution_count": 21,
   "metadata": {},
   "outputs": [],
   "source": [
    "dataset = torch.load(ds_path)"
   ]
  },
  {
   "cell_type": "code",
   "execution_count": 22,
   "metadata": {},
   "outputs": [
    {
     "data": {
      "text/plain": [
       "dict_keys(['image', 'time', 'delay/image', 'delay/robot', 'ee_force', 'base_force', 'robot_joints', 'robot_position_trans', 'robot_position_quat'])"
      ]
     },
     "execution_count": 22,
     "metadata": {},
     "output_type": "execute_result"
    }
   ],
   "source": [
    "dataset.keys()"
   ]
  },
  {
   "cell_type": "code",
   "execution_count": 23,
   "metadata": {},
   "outputs": [
    {
     "data": {
      "text/plain": [
       "tensor([0.0180, 0.0850, 0.1510, 0.2180, 0.2850, 0.3520, 0.4180, 0.4850, 0.5520,\n",
       "        0.6190, 0.6860, 0.7520, 0.8190, 0.8850, 0.9520, 1.0200, 1.0860, 1.1530,\n",
       "        1.2190, 1.2860, 1.3530, 1.4200, 1.4860, 1.5530, 1.6200, 1.6870, 1.7540,\n",
       "        1.8210, 1.8880, 1.9540, 2.0210, 2.0880, 2.1540, 2.2210, 2.2880, 2.3550,\n",
       "        2.4210, 2.4880, 2.5550, 2.6220, 2.6890, 2.7550, 2.8220, 2.8890, 2.9560,\n",
       "        3.0230, 3.0900, 3.1570, 3.2230, 3.2900, 3.3570, 3.4240, 3.4900, 3.5580,\n",
       "        3.6240, 3.6910, 3.7580, 3.8240, 3.8910, 3.9580, 4.0250, 4.0920, 4.1580,\n",
       "        4.2250, 4.2920, 4.3590, 4.4250, 4.4930, 4.5590, 4.6260, 4.6930, 4.7600,\n",
       "        4.8260, 4.8930, 4.9600, 5.0260, 5.0930, 5.1600, 5.2270, 5.2930, 5.3600,\n",
       "        5.4270, 5.4940, 5.5610, 5.6270, 5.6940, 5.7610, 5.8280, 5.8940, 5.9620,\n",
       "        6.0280, 6.0950, 6.1620], dtype=torch.float64)"
      ]
     },
     "execution_count": 23,
     "metadata": {},
     "output_type": "execute_result"
    }
   ],
   "source": [
    "dataset['time']"
   ]
  },
  {
   "cell_type": "code",
   "execution_count": 24,
   "metadata": {},
   "outputs": [
    {
     "data": {
      "text/plain": [
       "tensor([0.1120, 0.1120, 0.1110, 0.1120, 0.1120, 0.1120, 0.1110, 0.1120, 0.1120,\n",
       "        0.1120], dtype=torch.float64)"
      ]
     },
     "execution_count": 24,
     "metadata": {},
     "output_type": "execute_result"
    }
   ],
   "source": [
    "dataset['delay/image'][:10]"
   ]
  },
  {
   "cell_type": "code",
   "execution_count": 25,
   "metadata": {},
   "outputs": [
    {
     "data": {
      "text/plain": [
       "tensor([0.0180, 0.0850, 0.0510, 0.0170, 0.0840, 0.0510, 0.0170, 0.0840, 0.0510,\n",
       "        0.0180], dtype=torch.float64)"
      ]
     },
     "execution_count": 25,
     "metadata": {},
     "output_type": "execute_result"
    }
   ],
   "source": [
    "dataset['delay/robot'][:10]"
   ]
  },
  {
   "cell_type": "code",
   "execution_count": 15,
   "metadata": {},
   "outputs": [
    {
     "data": {
      "text/plain": [
       "90"
      ]
     },
     "execution_count": 15,
     "metadata": {},
     "output_type": "execute_result"
    }
   ],
   "source": [
    "len(dataset['time'])"
   ]
  },
  {
   "cell_type": "code",
   "execution_count": 18,
   "metadata": {},
   "outputs": [],
   "source": [
    "import sys\n",
    "sys.path.append('..')\n",
    "import geom"
   ]
  },
  {
   "cell_type": "code",
   "execution_count": 25,
   "metadata": {},
   "outputs": [],
   "source": [
    "import numpy as np\n",
    "import rerun as rr"
   ]
  },
  {
   "cell_type": "code",
   "execution_count": 28,
   "metadata": {},
   "outputs": [],
   "source": [
    "tt = geom.Transform3D(np.array([1, 2, 3]), geom.Quaternion.from_euler(np.array([0, 0, 0])))"
   ]
  },
  {
   "cell_type": "code",
   "execution_count": 33,
   "metadata": {},
   "outputs": [
    {
     "data": {
      "text/plain": [
       "Quaternion(xyzw=array([0., 0., 0., 1.], dtype=float32))"
      ]
     },
     "execution_count": 33,
     "metadata": {},
     "output_type": "execute_result"
    }
   ],
   "source": [
    "rr.Quaternion(xyzw=[tt.quaternion[1], tt.quaternion[2], tt.quaternion[3], tt.quaternion[0]])"
   ]
  },
  {
   "cell_type": "code",
   "execution_count": 34,
   "metadata": {},
   "outputs": [
    {
     "data": {
      "text/plain": [
       "rr.Transform3D(\n",
       ")"
      ]
     },
     "execution_count": 34,
     "metadata": {},
     "output_type": "execute_result"
    }
   ],
   "source": [
    "rr.Transform3D(translation=tt.translation, rotation=rr.Quaternion(xyzw=[tt.quaternion[1], tt.quaternion[2], tt.quaternion[3], tt.quaternion[0]]))"
   ]
  },
  {
   "cell_type": "code",
   "execution_count": null,
   "metadata": {},
   "outputs": [],
   "source": []
  }
 ],
 "metadata": {
  "kernelspec": {
   "display_name": "positronic",
   "language": "python",
   "name": "python3"
  },
  "language_info": {
   "codemirror_mode": {
    "name": "ipython",
    "version": 3
   },
   "file_extension": ".py",
   "mimetype": "text/x-python",
   "name": "python",
   "nbconvert_exporter": "python",
   "pygments_lexer": "ipython3",
   "version": "3.11.9"
  }
 },
 "nbformat": 4,
 "nbformat_minor": 2
}
