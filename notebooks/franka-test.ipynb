{
 "cells": [
  {
   "cell_type": "code",
   "execution_count": 1,
   "metadata": {},
   "outputs": [],
   "source": [
    "import franky"
   ]
  },
  {
   "cell_type": "code",
   "execution_count": 3,
   "metadata": {},
   "outputs": [],
   "source": [
    "robot = franky.Robot(\"172.168.0.2\", realtime_config=franky.RealtimeConfig.Ignore)\n",
    "robot.relative_dynamics_factor = 0.2"
   ]
  },
  {
   "cell_type": "code",
   "execution_count": null,
   "metadata": {},
   "outputs": [],
   "source": [
    "robot.recover_from_errors()"
   ]
  },
  {
   "cell_type": "code",
   "execution_count": null,
   "metadata": {},
   "outputs": [],
   "source": [
    "robot.current_joint_state.position"
   ]
  },
  {
   "cell_type": "code",
   "execution_count": 6,
   "metadata": {},
   "outputs": [],
   "source": [
    "home_pos = [0.0, -0.31, 0.0, -1.53, 0.0, 1.522, 0.785]"
   ]
  },
  {
   "cell_type": "code",
   "execution_count": 13,
   "metadata": {},
   "outputs": [],
   "source": [
    "motion = franky.JointMotion(home_pos)"
   ]
  },
  {
   "cell_type": "code",
   "execution_count": 14,
   "metadata": {},
   "outputs": [],
   "source": [
    "robot.move(motion, asynchronous=False)"
   ]
  },
  {
   "cell_type": "code",
   "execution_count": null,
   "metadata": {},
   "outputs": [],
   "source": [
    "robot.current_pose.end_effector_pose"
   ]
  },
  {
   "cell_type": "code",
   "execution_count": null,
   "metadata": {},
   "outputs": [],
   "source": [
    "motion = CartesianMotion(Affine([-0.2, 0.0, 0.0]), ReferenceType.Relative)"
   ]
  },
  {
   "cell_type": "code",
   "execution_count": null,
   "metadata": {},
   "outputs": [],
   "source": [
    "motion = CartesianMotion(\n",
    "    Affine([0.45, 0, 0.55], [1, 0, 0, 0]), ReferenceType.Absolute)"
   ]
  },
  {
   "cell_type": "code",
   "execution_count": null,
   "metadata": {},
   "outputs": [],
   "source": [
    "motion = JointWaypointMotion([\n",
    "    JointWaypoint([0.0,  -0.3, 0.0, -1.8, 0.0, 1.5,  0.65])])"
   ]
  },
  {
   "cell_type": "code",
   "execution_count": null,
   "metadata": {},
   "outputs": [],
   "source": [
    "robot.move(motion, asynchronous=True)"
   ]
  },
  {
   "cell_type": "code",
   "execution_count": null,
   "metadata": {},
   "outputs": [],
   "source": [
    "gripper = franky.Gripper(\"172.168.0.2\")"
   ]
  },
  {
   "cell_type": "code",
   "execution_count": null,
   "metadata": {},
   "outputs": [],
   "source": [
    "gripper.open(0.02)"
   ]
  },
  {
   "cell_type": "code",
   "execution_count": null,
   "metadata": {},
   "outputs": [],
   "source": [
    "import numpy as np"
   ]
  },
  {
   "cell_type": "code",
   "execution_count": null,
   "metadata": {},
   "outputs": [],
   "source": [
    "vel = 0.03\n",
    "gripper.open(vel)\n",
    "try:\n",
    "    fut = None\n",
    "    for w in np.linspace(0, 100, 100 * 10):\n",
    "        if fut is not None and not fut.wait(0):\n",
    "            gripper.terminate_command()\n",
    "        fut = gripper.move_async(w * gripper.state.max_width, vel)\n",
    "except KeyboardInterrupt:\n",
    "    gripper.stop()"
   ]
  },
  {
   "cell_type": "markdown",
   "metadata": {},
   "source": [
    "--------\n",
    "# Now starts Kinova"
   ]
  },
  {
   "cell_type": "code",
   "execution_count": 11,
   "metadata": {},
   "outputs": [],
   "source": [
    "import collections\n",
    "collections.MutableMapping = collections.abc.MutableMapping\n",
    "collections.MutableSequence = collections.abc.MutableSequence\n",
    "collections.MutableSet = collections.abc.MutableSet"
   ]
  },
  {
   "cell_type": "code",
   "execution_count": 12,
   "metadata": {},
   "outputs": [],
   "source": [
    "import collections\n",
    "import time\n",
    "import threading"
   ]
  },
  {
   "cell_type": "code",
   "execution_count": 13,
   "metadata": {},
   "outputs": [],
   "source": [
    "from kortex_api.autogen.client_stubs.ActuatorConfigClientRpc import ActuatorConfigClient\n",
    "from kortex_api.autogen.client_stubs.BaseClientRpc import BaseClient\n",
    "from kortex_api.autogen.client_stubs.BaseCyclicClientRpc import BaseCyclicClient\n",
    "from kortex_api.autogen.messages import Base_pb2, BaseCyclic_pb2, ActuatorConfig_pb2\n",
    "\n",
    "from kortex_api.TCPTransport import TCPTransport\n",
    "from kortex_api.UDPTransport import UDPTransport\n",
    "\n",
    "from kortex_api.RouterClient import RouterClient, RouterClientSendOptions\n",
    "from kortex_api.SessionManager import SessionManager\n",
    "from kortex_api.autogen.messages import Session_pb2"
   ]
  },
  {
   "cell_type": "code",
   "execution_count": 14,
   "metadata": {},
   "outputs": [],
   "source": [
    "import geom\n",
    "import autograd.numpy as np\n",
    "import ruckig\n",
    "import matplotlib.pyplot as plt"
   ]
  },
  {
   "cell_type": "markdown",
   "metadata": {},
   "source": [
    "\n",
    "## Low level control"
   ]
  },
  {
   "cell_type": "code",
   "execution_count": 15,
   "metadata": {},
   "outputs": [],
   "source": [
    "target_pos = geom.Transform3D(\n",
    "    translation=np.array([0.53686397, 0.07407813, 0.53547285]),\n",
    "    quaternion=np.array([0.50436832, 0.51220832, 0.48933736, 0.49376531]))"
   ]
  },
  {
   "cell_type": "code",
   "execution_count": 16,
   "metadata": {},
   "outputs": [],
   "source": [
    "def inverse_kinematics(base, transform, joints_guess):\n",
    "    euler = geom.radians_to_degrees(geom.quat_to_euler(transform.quaternion))\n",
    "    ik_data = Base_pb2.IKData()\n",
    "    ik_data.cartesian_pose.x = transform.translation[0]\n",
    "    ik_data.cartesian_pose.y = transform.translation[1]\n",
    "    ik_data.cartesian_pose.z = transform.translation[2]\n",
    "    ik_data.cartesian_pose.theta_x = euler[0]\n",
    "    ik_data.cartesian_pose.theta_y = euler[1]\n",
    "    ik_data.cartesian_pose.theta_z = euler[2]\n",
    "\n",
    "    for a in joints_guess:\n",
    "        ja = ik_data.guess.joint_angles.add()\n",
    "        ja.value = a\n",
    "\n",
    "    joint_angels = base.ComputeInverseKinematics(ik_data)\n",
    "    return np.array([a.value for a in joint_angels.joint_angles])"
   ]
  },
  {
   "cell_type": "code",
   "execution_count": 17,
   "metadata": {},
   "outputs": [],
   "source": [
    "def normalise_angles(target, base, period=360):\n",
    "    res = target - base\n",
    "    res[res > period / 2] -= period\n",
    "    res[res < -period / 2] += period\n",
    "    return base + res"
   ]
  },
  {
   "cell_type": "code",
   "execution_count": 8,
   "metadata": {},
   "outputs": [],
   "source": [
    "class KinovaController:\n",
    "    def __init__(self, ip: str):\n",
    "        self.stop_event = threading.Event()\n",
    "        self.target_pos = None\n",
    "        self.target_lock = threading.Lock()\n",
    "\n",
    "        self.output_lock = threading.Lock()\n",
    "        self.output = None\n",
    "\n",
    "    def run(self):\n",
    "        if True:\n",
    "            transport = TCPTransport()\n",
    "            router = RouterClient(transport, RouterClient.basicErrorCallback)\n",
    "            transport.connect('192.168.1.10', 10000)\n",
    "\n",
    "            session_info = Session_pb2.CreateSessionInfo()\n",
    "            session_info.username = \"admin\"\n",
    "            session_info.password = \"admin\"\n",
    "            session_info.session_inactivity_timeout = 1000 * 1000   # (milliseconds)\n",
    "            session_info.connection_inactivity_timeout = 1000 * 1000 # (milliseconds)\n",
    "\n",
    "            sessionManager = SessionManager(router)\n",
    "            sessionManager.CreateSession(session_info)\n",
    "\n",
    "            base = BaseClient(router)\n",
    "            base.SetServoingMode(Base_pb2.ServoingModeInformation(servoing_mode = Base_pb2.SINGLE_LEVEL_SERVOING))\n",
    "\n",
    "            udp_transport = UDPTransport()\n",
    "            upd_router = RouterClient(udp_transport, RouterClient.basicErrorCallback)\n",
    "            udp_transport.connect('192.168.1.10', 10001)\n",
    "\n",
    "            udp_session = SessionManager(upd_router)\n",
    "            udp_session.CreateSession(session_info)\n",
    "            base_cyclic = BaseCyclicClient(upd_router)\n",
    "\n",
    "            action_list = base.ReadAllActions(\n",
    "                Base_pb2.RequestedActionType(action_type = Base_pb2.REACH_JOINT_ANGLES))\n",
    "            action_handle = [a.handle for a in action_list.action_list\n",
    "                            if a.name == \"Home\"][0]\n",
    "\n",
    "            def check(n, e):\n",
    "                if n.action_event in [Base_pb2.ACTION_END, Base_pb2.ACTION_ABORT]:\n",
    "                    print(\"Home position reached\")\n",
    "                    e.set()\n",
    "\n",
    "            e = threading.Event()\n",
    "            notification_handle = base.OnNotificationActionTopic(lambda n: check(n, e), Base_pb2.NotificationOptions())\n",
    "\n",
    "            base.ExecuteActionFromReference(action_handle)\n",
    "            finished = e.wait(30)\n",
    "            if not finished:\n",
    "                raise Exception(\"Home position not reached\")\n",
    "            base.Unsubscribe(notification_handle)\n",
    "        # ------------------\n",
    "\n",
    "\n",
    "        control = ruckig.Ruckig(7, 1 / 1000)  # 40 hz\n",
    "        inp_ctrl = ruckig.InputParameter(7)\n",
    "\n",
    "        inp_ctrl.target_velocity = [0.0] * 7\n",
    "        inp_ctrl.target_acceleration = [0.0] * 7\n",
    "\n",
    "        inp_ctrl.max_position = [np.inf, 128.9, np.inf, 147.8, np.inf, 120.3, np.inf]\n",
    "        inp_ctrl.min_position = [-np.inf, -128.9, -np.inf, -147.8, -np.inf, -120.3, -np.inf]\n",
    "        inp_ctrl.max_velocity = [20.0] * 7\n",
    "        inp_ctrl.max_acceleration = [15.0] * 7\n",
    "        inp_ctrl.max_jerk = [6.0] * 7\n",
    "\n",
    "        target_joints = None\n",
    "        command = BaseCyclic_pb2.Command()\n",
    "        for i in range(7):\n",
    "            act = command.actuators.add()\n",
    "\n",
    "        send_option = RouterClientSendOptions()\n",
    "        send_option.timeout_ms = 50\n",
    "\n",
    "        feedback = base_cyclic.RefreshFeedback()\n",
    "        inp_ctrl.current_position = ([a.position for a in feedback.actuators])\n",
    "        inp_ctrl.current_velocity = ([a.velocity for a in feedback.actuators])\n",
    "        with self.output_lock:\n",
    "            self.output = np.array([a.position for a in feedback.actuators])\n",
    "        out = ruckig.OutputParameter(7)\n",
    "        res = ruckig.Result.Working\n",
    "        start = time.monotonic()\n",
    "        count = 0\n",
    "\n",
    "        base.SetServoingMode(Base_pb2.ServoingModeInformation(servoing_mode=Base_pb2.LOW_LEVEL_SERVOING))\n",
    "        try:\n",
    "            while not self.stop_event.is_set():\n",
    "                with self.target_lock:\n",
    "                    if self.target_pos is not None:\n",
    "                        if target_joints is None:\n",
    "                            start = time.monotonic()\n",
    "\n",
    "                        target_pos = self.target_pos\n",
    "                        target_joints = inverse_kinematics(base, target_pos, [a.position for a in feedback.actuators])\n",
    "                        self.target_pos = None\n",
    "                        inp_ctrl.target_position = normalise_angles(target_joints, inp_ctrl.current_position)\n",
    "\n",
    "                if target_joints is None:\n",
    "                    time.sleep(0.1)\n",
    "                    continue\n",
    "\n",
    "                inp_ctrl.target_position = normalise_angles(target_joints, inp_ctrl.current_position)\n",
    "\n",
    "                res = control.update(inp_ctrl, out)\n",
    "                out.pass_to_input(inp_ctrl)\n",
    "\n",
    "                command.frame_id = (command.frame_id + 1) % 65536\n",
    "                for i in range(7):\n",
    "                    command.actuators[i].command_id = command.frame_id\n",
    "                    # command.actuators[i].position = feedback.actuators[i].position\n",
    "                    command.actuators[i].position = out.new_position[i]\n",
    "\n",
    "                feedback = base_cyclic.Refresh(command, 0, send_option)\n",
    "                with self.output_lock:\n",
    "                    self.output = np.array([a.position for a in feedback.actuators])\n",
    "\n",
    "                count += 1\n",
    "                if count % 10000 == 9999:\n",
    "                    print(f'Running {count / (time.monotonic() - start):.2f} hz')\n",
    "\n",
    "        finally:\n",
    "            base.SetServoingMode(Base_pb2.ServoingModeInformation(servoing_mode=Base_pb2.SINGLE_LEVEL_SERVOING))\n",
    "            base.Stop()\n",
    "\n",
    "            # if sessionManager != None:\n",
    "            #     router_options = RouterClientSendOptions()\n",
    "            #     router_options.timeout_ms = 1000\n",
    "            #     sessionManager.CloseSession(router_options)\n",
    "\n",
    "            # udp_transport.disconnect()\n",
    "            # transport.disconnect()"
   ]
  },
  {
   "cell_type": "code",
   "execution_count": null,
   "metadata": {},
   "outputs": [],
   "source": [
    "controller = KinovaController(\"192.168.1.10\")\n",
    "control_thread = threading.Thread(target=controller.run)\n",
    "control_thread.start()"
   ]
  },
  {
   "cell_type": "code",
   "execution_count": 19,
   "metadata": {},
   "outputs": [],
   "source": [
    "transport = TCPTransport()\n",
    "router = RouterClient(transport, RouterClient.basicErrorCallback)\n",
    "transport.connect('192.168.1.10', 10000)\n",
    "\n",
    "session_info = Session_pb2.CreateSessionInfo()\n",
    "session_info.username = \"admin\"\n",
    "session_info.password = \"admin\"\n",
    "session_info.session_inactivity_timeout = 1000 * 1000   # (milliseconds)\n",
    "session_info.connection_inactivity_timeout = 1000 * 1000 # (milliseconds)\n",
    "\n",
    "sessionManager = SessionManager(router)\n",
    "sessionManager.CreateSession(session_info)\n",
    "\n",
    "base = BaseClient(router)\n",
    "cyclic = BaseCyclicClient(router)"
   ]
  },
  {
   "cell_type": "code",
   "execution_count": null,
   "metadata": {},
   "outputs": [],
   "source": [
    "cyclic.RefreshFeedback()"
   ]
  },
  {
   "cell_type": "code",
   "execution_count": 13,
   "metadata": {},
   "outputs": [],
   "source": [
    "from hardware import kinova as knv"
   ]
  },
  {
   "cell_type": "code",
   "execution_count": null,
   "metadata": {},
   "outputs": [],
   "source": [
    "base.SetServoingMode(Base_pb2.ServoingModeInformation(servoing_mode = Base_pb2.SINGLE_LEVEL_SERVOING))\n",
    "angles_pb = base.GetMeasuredJointAngles()"
   ]
  },
  {
   "cell_type": "code",
   "execution_count": null,
   "metadata": {},
   "outputs": [],
   "source": [
    "for i in range(7):\n",
    "    angles_pb.joint_angles[i].value = 0"
   ]
  },
  {
   "cell_type": "code",
   "execution_count": null,
   "metadata": {},
   "outputs": [],
   "source": [
    "fk_out = base.ComputeForwardKinematics(angles_pb)\n",
    "fk_out"
   ]
  },
  {
   "cell_type": "code",
   "execution_count": null,
   "metadata": {},
   "outputs": [],
   "source": [
    "angles = np.array([a.value for a in angles_pb.joint_angles])"
   ]
  },
  {
   "cell_type": "code",
   "execution_count": 7,
   "metadata": {},
   "outputs": [],
   "source": [
    "def robot_fk(angles):\n",
    "    angles = geom.radians_to_degrees(angles)\n",
    "    angles_pb = Base_pb2.JointAngles()\n",
    "    for i, angle in enumerate(angles):\n",
    "        angles_pb.joint_angles.add(joint_identifier=i, value=angle)\n",
    "    fk_out = base.ComputeForwardKinematics(angles_pb)\n",
    "    return geom.Transform3D(translation=np.array([fk_out.x, fk_out.y, fk_out.z]),\n",
    "                            quaternion=geom.Quaternion.from_euler([fk_out.theta_x, fk_out.theta_y, fk_out.theta_z]))"
   ]
  },
  {
   "cell_type": "code",
   "execution_count": 8,
   "metadata": {},
   "outputs": [],
   "source": [
    "def kinematic_model(params, angles):\n",
    "    PARAMS_PER_LINK = 6\n",
    "    result = geom.Transform3D()\n",
    "    for i in range(7):\n",
    "        start_offset = i * PARAMS_PER_LINK\n",
    "        t = geom.Transform3D(translation=params[start_offset: start_offset + 3],\n",
    "                             quaternion=geom.Quaternion.from_euler(params[start_offset + 3: start_offset + 6]))\n",
    "        result = result * t * geom.Transform3D(quaternion=geom.Quaternion.from_euler([0, 0, angles[i]]))\n",
    "\n",
    "    t_last = geom.Transform3D(translation=params[-6:-3],\n",
    "                              quaternion=geom.Quaternion.from_euler(params[-3:]))\n",
    "    return result * t_last"
   ]
  },
  {
   "cell_type": "code",
   "execution_count": 19,
   "metadata": {},
   "outputs": [],
   "source": [
    "import concurrent.futures\n",
    "AW = 1\n",
    "\n",
    "def objective_function(params, joint_angels, target):\n",
    "    fk = kinematic_model(params, joint_angels)\n",
    "    diff = fk.translation - target.translation\n",
    "    diff_norm = diff.dot(diff)\n",
    "    return diff_norm + AW * (fk.quaternion.inv * target.quaternion).angle\n",
    "\n",
    "def parallel_objective_function(params):\n",
    "    with concurrent.futures.ThreadPoolExecutor() as executor:\n",
    "        futures = [executor.submit(objective_function, params, angles, target)\n",
    "                   for angles, target in zip(joint_angles_set, target_set)]\n",
    "        results = [f.result() for f in futures]\n",
    "    return sum(results)"
   ]
  },
  {
   "cell_type": "code",
   "execution_count": 20,
   "metadata": {},
   "outputs": [],
   "source": [
    "max_position = geom.degrees_to_radians(np.array([180, 128.9, 180, 147.8, 180, 120.3, 180]))"
   ]
  },
  {
   "cell_type": "code",
   "execution_count": 21,
   "metadata": {},
   "outputs": [],
   "source": [
    "joint_angles_set = np.random.uniform(-max_position, max_position, size=(30, 7))\n",
    "target_set = [robot_fk(angles) for angles in joint_angles_set]"
   ]
  },
  {
   "cell_type": "code",
   "execution_count": 17,
   "metadata": {},
   "outputs": [],
   "source": [
    "init_params = np.zeros(8 * 6)\n",
    "# for i, t in enumerate(knv._KINOVA_CHAIN):\n",
    "#     init_params[i * 6: (i + 1) * 6] = np.concatenate([t.translation, t.quaternion.as_euler])"
   ]
  },
  {
   "cell_type": "code",
   "execution_count": 22,
   "metadata": {},
   "outputs": [],
   "source": [
    "from autograd import grad\n",
    "objective_function_grad = grad(parallel_objective_function)"
   ]
  },
  {
   "cell_type": "code",
   "execution_count": null,
   "metadata": {},
   "outputs": [],
   "source": [
    "from scipy.optimize import minimize\n",
    "count = 0\n",
    "\n",
    "def callback(params):\n",
    "    global count\n",
    "    count += 1\n",
    "    if count % 3 == 0:\n",
    "        total_error = sum(objective_function(params, joint_angles_set[i], target_set[i])\n",
    "                        for i in range(len(joint_angles_set)))\n",
    "        print(f\"Current parameters: {params}\")\n",
    "        print(f\"Current error: {total_error}\")\n",
    "\n",
    "result = minimize(\n",
    "    lambda params: sum(objective_function(params, joint_angles_set[i], target_set[i])\n",
    "                        for i in range(len(joint_angles_set))),\n",
    "    init_params,\n",
    "    jac=objective_function_grad,\n",
    "    method='BFGS', callback=callback, options={'disp': True})"
   ]
  },
  {
   "cell_type": "code",
   "execution_count": null,
   "metadata": {},
   "outputs": [],
   "source": [
    "robot_fk(angles)"
   ]
  },
  {
   "cell_type": "code",
   "execution_count": null,
   "metadata": {},
   "outputs": [],
   "source": [
    "def forward_kinematics(joints):\n",
    "    joints = geom.degrees_to_radians(joints)\n",
    "\n",
    "    result = geom.Transform3D()\n",
    "    for chain, joint in zip(knv._KINOVA_CHAIN, joints):\n",
    "        result = result * chain * geom.Transform3D(quaternion=geom.Quaternion.from_euler([0, 0, joint]))\n",
    "    result = result * knv._KINOVA_CHAIN[-1]\n",
    "\n",
    "    return result"
   ]
  },
  {
   "cell_type": "code",
   "execution_count": null,
   "metadata": {},
   "outputs": [],
   "source": [
    "geom.radians_to_degrees(knv._forward_kinematics(angles).quaternion.as_euler)"
   ]
  },
  {
   "cell_type": "code",
   "execution_count": null,
   "metadata": {},
   "outputs": [],
   "source": [
    "with controller.target_lock:\n",
    "    controller.target_pos = target_pos"
   ]
  },
  {
   "cell_type": "code",
   "execution_count": null,
   "metadata": {},
   "outputs": [],
   "source": [
    "target_pos2 = geom.Transform3D(translation=np.array([0.5, -0.15, 0.4]), quaternion=np.array([0.5, 0.5, 0.5, 0.5]))\n",
    "with controller.target_lock:\n",
    "    controller.target_pos = target_pos2"
   ]
  },
  {
   "cell_type": "code",
   "execution_count": null,
   "metadata": {},
   "outputs": [],
   "source": [
    "controller.stop_event.set()\n",
    "control_thread.join()\n",
    "\n",
    "del controller"
   ]
  },
  {
   "cell_type": "code",
   "execution_count": null,
   "metadata": {},
   "outputs": [],
   "source": []
  },
  {
   "cell_type": "markdown",
   "metadata": {},
   "source": [
    "---"
   ]
  },
  {
   "cell_type": "code",
   "execution_count": null,
   "metadata": {},
   "outputs": [],
   "source": [
    "log = collections.defaultdict(list)\n",
    "actuator_mode = [ActuatorConfig_pb2.POSITION] * 7\n",
    "\n",
    "base.SetServoingMode(Base_pb2.ServoingModeInformation(servoing_mode=Base_pb2.SINGLE_LEVEL_SERVOING))\n",
    "try:\n",
    "    feedback = base_cyclic.RefreshFeedback()\n",
    "    out = ruckig.OutputParameter(7)\n",
    "    res = ruckig.Result.Working\n",
    "    start = time.monotonic()\n",
    "    count = 0\n",
    "    while res == ruckig.Result.Working:\n",
    "        cur_pos = np.array([a.position for a in feedback.actuators])\n",
    "        cur_vel = np.array([a.velocity for a in feedback.actuators])\n",
    "        inp_ctrl.current_position = cur_pos\n",
    "        # inp_ctrl.current_velocity = cur_vel\n",
    "        inp_ctrl.target_position = normalise_angles(target_joints, inp_ctrl.current_position)\n",
    "\n",
    "        res = control.update(inp_ctrl, out)\n",
    "        log['pos/current'].append(normalise_angles(cur_pos, inp_ctrl.current_position))\n",
    "        log['pos/target'].append(inp_ctrl.target_position)\n",
    "        log['vel/current'].append(cur_vel)\n",
    "        log['pos/output'].append(out.new_position)\n",
    "        log['vel/output'].append(out.new_velocity)\n",
    "        out.pass_to_input(inp_ctrl)\n",
    "\n",
    "        joint_speeds = Base_pb2.JointSpeeds()\n",
    "        for i in range(7):\n",
    "            js = joint_speeds.joint_speeds.add()\n",
    "            js.joint_identifier = i\n",
    "            js.value = out.new_velocity[i]\n",
    "            js.duration = 0\n",
    "\n",
    "        base.SendJointSpeedsCommand(joint_speeds)\n",
    "        feedback = base_cyclic.RefreshFeedback()\n",
    "        count += 1\n",
    "        if count % 100 == 99:\n",
    "            print(f'Running {count / (time.monotonic() - start):.2f} hz')\n",
    "finally:\n",
    "    base.Stop()"
   ]
  },
  {
   "cell_type": "code",
   "execution_count": null,
   "metadata": {},
   "outputs": [],
   "source": [
    "base.ClearFaults()\n",
    "base.ExecuteActionFromReference(action_handle)"
   ]
  },
  {
   "cell_type": "code",
   "execution_count": null,
   "metadata": {},
   "outputs": [],
   "source": [
    "for k in log:\n",
    "    log[k] = np.array(log[k])"
   ]
  },
  {
   "cell_type": "code",
   "execution_count": null,
   "metadata": {},
   "outputs": [],
   "source": [
    "fig, axs = plt.subplots(4, 4, figsize=(15, 8))\n",
    "for i in range(7):\n",
    "    row = i // 2\n",
    "    col = (i % 2) * 2\n",
    "    axs[row, col].plot(log['pos/current'][:, i])\n",
    "    axs[row, col].plot(log['pos/target'][:, i])\n",
    "    axs[row, col].plot(log['pos/output'][:, i])\n",
    "    axs[row, col].yaxis.set_major_formatter(plt.FuncFormatter(lambda x, _: f'{x:.0f}'))\n",
    "    axs[row, col].tick_params(axis='x', labelbottom=False)\n",
    "\n",
    "    axs[row, col + 1].plot(log['vel/output'][:, i])\n",
    "    axs[row, col + 1].plot(log['vel/current'][:, i])\n",
    "    axs[row, col + 1].yaxis.set_major_formatter(plt.FuncFormatter(lambda x, _: f'{x:.0f}'))\n",
    "    axs[row, col + 1].tick_params(axis='x', labelbottom=False)\n",
    "\n",
    "# Hide the empty subplots\n",
    "for j in range(7, 8):\n",
    "    row = j // 2\n",
    "    col = (j % 2) * 2\n",
    "    fig.delaxes(axs[row, col])\n",
    "    fig.delaxes(axs[row, col + 1])\n",
    "\n",
    "plt.tight_layout()\n",
    "plt.show()"
   ]
  },
  {
   "cell_type": "code",
   "execution_count": null,
   "metadata": {},
   "outputs": [],
   "source": [
    "fig, axs = plt.subplots(4, 4, figsize=(15, 8))\n",
    "for i in range(7):\n",
    "    row = i // 2\n",
    "    col = (i % 2) * 2\n",
    "    axs[row, col].plot(log['pos/current'][:, i])\n",
    "    axs[row, col].plot(log['pos/target'][:, i])\n",
    "    axs[row, col].plot(log['pos/output'][:, i])\n",
    "    axs[row, col].yaxis.set_major_formatter(plt.FuncFormatter(lambda x, _: f'{x:.0f}'))\n",
    "    axs[row, col].tick_params(axis='x', labelbottom=False)\n",
    "\n",
    "    axs[row, col + 1].plot(log['vel/output'][:, i])\n",
    "    axs[row, col + 1].plot(log['vel/current'][:, i])\n",
    "    axs[row, col + 1].yaxis.set_major_formatter(plt.FuncFormatter(lambda x, _: f'{x:.0f}'))\n",
    "    axs[row, col + 1].tick_params(axis='x', labelbottom=False)\n",
    "\n",
    "# Hide the empty subplots\n",
    "for j in range(7, 8):\n",
    "    row = j // 2\n",
    "    col = (j % 2) * 2\n",
    "    fig.delaxes(axs[row, col])\n",
    "    fig.delaxes(axs[row, col + 1])\n",
    "\n",
    "plt.tight_layout()\n",
    "plt.show()"
   ]
  },
  {
   "cell_type": "code",
   "execution_count": null,
   "metadata": {},
   "outputs": [],
   "source": [
    "fig, axs = plt.subplots(4, 4, figsize=(15, 8))\n",
    "for i in range(7):\n",
    "    row = i // 2\n",
    "    col = (i % 2) * 2\n",
    "    axs[row, col].plot(log['pos/current'][:, i])\n",
    "    axs[row, col].plot(log['pos/target'][:, i])\n",
    "    axs[row, col].plot(log['pos/output'][:, i])\n",
    "    axs[row, col].yaxis.set_major_formatter(plt.FuncFormatter(lambda x, _: f'{x:.0f}'))\n",
    "    axs[row, col].tick_params(axis='x', labelbottom=False)\n",
    "\n",
    "    axs[row, col + 1].plot(log['vel/output'][:, i])\n",
    "    axs[row, col + 1].plot(log['vel/current'][:, i])\n",
    "    axs[row, col + 1].yaxis.set_major_formatter(plt.FuncFormatter(lambda x, _: f'{x:.0f}'))\n",
    "    axs[row, col + 1].tick_params(axis='x', labelbottom=False)\n",
    "\n",
    "# Hide the empty subplots\n",
    "for j in range(7, 8):\n",
    "    row = j // 2\n",
    "    col = (j % 2) * 2\n",
    "    fig.delaxes(axs[row, col])\n",
    "    fig.delaxes(axs[row, col + 1])\n",
    "\n",
    "plt.tight_layout()\n",
    "plt.show()"
   ]
  },
  {
   "cell_type": "code",
   "execution_count": null,
   "metadata": {},
   "outputs": [],
   "source": [
    "d_time, d_dim = np.meshgrid(range(len(log['mode'])), range(7), indexing='ij')\n",
    "plt.scatter(d_time.flatten(), d_dim.flatten(), c=log['mode'].flatten(), cmap='viridis', marker='s')\n",
    "plt.show()"
   ]
  },
  {
   "cell_type": "code",
   "execution_count": null,
   "metadata": {},
   "outputs": [],
   "source": [
    "actuator_config.GetControlLoopParameters(\n",
    "    ActuatorConfig_pb2.LoopSelection(loop_selection=ActuatorConfig_pb2.JOINT_POSITION))"
   ]
  },
  {
   "cell_type": "code",
   "execution_count": null,
   "metadata": {},
   "outputs": [],
   "source": []
  },
  {
   "cell_type": "code",
   "execution_count": null,
   "metadata": {},
   "outputs": [],
   "source": [
    "router_options = RouterClientSendOptions()\n",
    "router_options.timeout_ms = 1000\n",
    "sessionManager.CloseSession(router_options)\n",
    "transport.disconnect()"
   ]
  },
  {
   "cell_type": "code",
   "execution_count": null,
   "metadata": {},
   "outputs": [],
   "source": []
  },
  {
   "cell_type": "code",
   "execution_count": null,
   "metadata": {},
   "outputs": [],
   "source": [
    "log = collections.defaultdict(list)\n",
    "actuator_mode = [ActuatorConfig_pb2.POSITION] * 7\n",
    "\n",
    "base.SetServoingMode(Base_pb2.ServoingModeInformation(servoing_mode=Base_pb2.LOW_LEVEL_SERVOING))\n",
    "try:\n",
    "    feedback = base_cyclic.RefreshFeedback()\n",
    "    out = ruckig.OutputParameter(7)\n",
    "    res = ruckig.Result.Working\n",
    "    start = time.monotonic()\n",
    "    count = 0\n",
    "    while res == ruckig.Result.Working:\n",
    "        cur_pos = np.array([a.position for a in feedback.actuators])\n",
    "        cur_vel = np.array([a.velocity for a in feedback.actuators])\n",
    "        # inp_ctrl.current_position = cur_pos\n",
    "        # inp_ctrl.current_velocity = cur_vel\n",
    "        inp_ctrl.target_position = normalise_angles(target_joints, inp_ctrl.current_position)\n",
    "\n",
    "        res = control.update(inp_ctrl, out)\n",
    "        log['pos/current'].append(normalise_angles(cur_pos, inp_ctrl.current_position))\n",
    "        log['pos/target'].append(inp_ctrl.target_position)\n",
    "        log['vel/current'].append(cur_vel)\n",
    "        log['pos/output'].append(out.new_position)\n",
    "        log['vel/output'].append(out.new_velocity)\n",
    "        out.pass_to_input(inp_ctrl)\n",
    "\n",
    "        command.frame_id = (command.frame_id + 1) % 65536\n",
    "        for i in range(7):\n",
    "            command.actuators[i].command_id = command.frame_id\n",
    "            # If the difference between the target and current position is less than 0.3 degrees,\n",
    "            # use position control. Otherwise, use velocity control\n",
    "            pos_control = abs(out.new_position[i] - inp_ctrl.target_position[i]) < 0.3 or abs(out.new_velocity[i]) < 0.1\n",
    "            # mode = ActuatorConfig_pb2.POSITION if pos_control else ActuatorConfig_pb2.VELOCITY\n",
    "            mode = ActuatorConfig_pb2.POSITION\n",
    "            if actuator_mode[i] != mode:\n",
    "                actuator_config.SetControlMode(ActuatorConfig_pb2.ControlModeInformation(control_mode=mode), deviceId=i+1)\n",
    "                actuator_mode[i] = mode\n",
    "\n",
    "            command.actuators[i].position = out.new_position[i]\n",
    "            command.actuators[i].velocity = out.new_velocity[i]\n",
    "\n",
    "        log['mode'].append([actuator_mode[i] for i in range(7)])\n",
    "        feedback = base_cyclic.Refresh(command, 0, send_option)\n",
    "        count += 1\n",
    "        if count % 100 == 99:\n",
    "            print(f'Running {count / (time.monotonic() - start):.2f} hz')\n",
    "\n",
    "finally:\n",
    "    for i in range(7):\n",
    "        actuator_config.SetControlMode(\n",
    "            ActuatorConfig_pb2.ControlModeInformation(control_mode=ActuatorConfig_pb2.POSITION),\n",
    "            deviceId=i+1)\n",
    "    # command.frame_id = (command.frame_id + 1) % 65536\n",
    "    # for i in range(7):\n",
    "    #     command.actuators[i].command_id = command.frame_id\n",
    "    #     command.actuators[i].position = feedback.actuators[i].position\n",
    "    # feedback = base_cyclic.Refresh(command, 0, send_option)\n",
    "\n",
    "    base.SetServoingMode(Base_pb2.ServoingModeInformation(servoing_mode=Base_pb2.SINGLE_LEVEL_SERVOING))"
   ]
  }
 ],
 "metadata": {
  "kernelspec": {
   "display_name": "positronic",
   "language": "python",
   "name": "python3"
  },
  "language_info": {
   "codemirror_mode": {
    "name": "ipython",
    "version": 3
   },
   "file_extension": ".py",
   "mimetype": "text/x-python",
   "name": "python",
   "nbconvert_exporter": "python",
   "pygments_lexer": "ipython3",
   "version": "3.11.10"
  }
 },
 "nbformat": 4,
 "nbformat_minor": 2
}
